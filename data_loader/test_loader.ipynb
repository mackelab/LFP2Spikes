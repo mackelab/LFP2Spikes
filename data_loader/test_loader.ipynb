{
 "cells": [
  {
   "cell_type": "code",
   "execution_count": 1,
   "id": "75daeb46-8d29-4a25-9304-f4f7b8b84961",
   "metadata": {},
   "outputs": [
    {
     "name": "stdout",
     "output_type": "stream",
     "text": [
      "Epiphyte Tube version loaded.\n",
      "Connecting fkaltenberger@134.2.168.111:3306\n",
      "\n",
      "Start loading pipeline for LFP data: \n",
      " \t > patients: [66]\n",
      " \t > fetched information: ['patient_id', 'session_nr', 'csc_nr', 'samples', 'timestamps', 'brain_region']\n",
      "LFP data loaded.\n",
      "LFP data clipped to movie.\n",
      "LFP data filtered.\n",
      "LFP data zscored.\n",
      "End of loading pipeline.\n",
      "\n"
     ]
    }
   ],
   "source": [
    "from lfp_loader import LFP_LOADER\n",
    "\n",
    "lfp_ldr = LFP_LOADER()\n",
    "\n",
    "filter_notch=[50.0, 30.0]\n",
    "filter_lowpass=[] \n",
    "zscore=True\n",
    "outliers=False\n",
    "outlier_limit=5\n",
    "\n",
    "df_lfp = lfp_ldr.loading_pipeline(\n",
    "    filter_notch=filter_notch, \n",
    "    filter_lowpass=filter_lowpass, \n",
    "    zscore=zscore,\n",
    "    outliers=outliers\n",
    ")"
   ]
  },
  {
   "cell_type": "code",
   "execution_count": 2,
   "id": "6561c66f-8a44-4efd-9071-459fa6bc8a41",
   "metadata": {},
   "outputs": [],
   "source": [
    "import sys\n",
    "sys.path.append('/home/rachel/Documents/lfp2spikes/modularized_code') \n",
    "path_lfp = \"../data/lfp_data/p66_lfps_notch50_zscore\"\n",
    "lfp_ldr.save_lfps(df_lfp, path_lfp)"
   ]
  },
  {
   "cell_type": "code",
   "execution_count": 3,
   "id": "49459f01-62b5-44f7-a84c-1f424ffa3e59",
   "metadata": {},
   "outputs": [
    {
     "data": {
      "text/plain": [
       "{'66': [1444507, 6407492, 118858083.322, 123821069.922]}"
      ]
     },
     "execution_count": 3,
     "metadata": {},
     "output_type": "execute_result"
    }
   ],
   "source": [
    "lfp_startstop_times = lfp_ldr.get_start_stop_times()\n",
    "#lfp_startstop_times = {'66': [1444507, 6407492, 118858083.322, 123821069.922]}\n",
    "lfp_startstop_times"
   ]
  },
  {
   "cell_type": "code",
   "execution_count": 4,
   "id": "67b2f4dd-dd09-4348-84de-43e7f863ada4",
   "metadata": {},
   "outputs": [
    {
     "name": "stdout",
     "output_type": "stream",
     "text": [
      "\n",
      "Start loading pipeline for spike data: \n",
      " \t > patients: [66]\n",
      " \t > fetched information: ['patient_id', 'session_nr', 'unit_id', 'spike_times']\n",
      "Spike data loaded.\n",
      "Spike data clipped to movie.\n",
      "Spike data binned to bins of approx. 1ms\n",
      "Total of 679391 spikes.\n",
      "End of loading pipeline.\n",
      "\n"
     ]
    }
   ],
   "source": [
    "from spike_loader import SPIKE_LOADER\n",
    "spike_ldr = SPIKE_LOADER()\n",
    "\n",
    "bin_size = 1\n",
    "df_spikes = spike_ldr.loading_pipeline(lfp_startstop_times, bin_size)"
   ]
  },
  {
   "cell_type": "code",
   "execution_count": 5,
   "id": "c030c734-b465-4815-99a8-d3d96a9a97d8",
   "metadata": {},
   "outputs": [],
   "source": [
    "import sys\n",
    "sys.path.append('/home/rachel/Documents/lfp2spikes/modularized_code') \n",
    "path_spikes = \"../data/spikes_data/p66_spikes_bin1ms\"\n",
    "lfp_ldr.save_lfps(df_spikes, path_spikes)"
   ]
  },
  {
   "cell_type": "code",
   "execution_count": 9,
   "id": "d712719b-7fa1-471d-b374-073c8db746c6",
   "metadata": {},
   "outputs": [
    {
     "ename": "ImportError",
     "evalue": "attempted relative import with no known parent package",
     "output_type": "error",
     "traceback": [
      "\u001b[0;31m---------------------------------------------------------------------------\u001b[0m",
      "\u001b[0;31mImportError\u001b[0m                               Traceback (most recent call last)",
      "\u001b[0;32m/tmp/ipykernel_3567531/1261442865.py\u001b[0m in \u001b[0;36m<module>\u001b[0;34m\u001b[0m\n\u001b[0;32m----> 1\u001b[0;31m \u001b[0;32mfrom\u001b[0m \u001b[0;34m.\u001b[0m\u001b[0;34m.\u001b[0m\u001b[0mdata_prep\u001b[0m\u001b[0;34m.\u001b[0m\u001b[0mdata_preparation\u001b[0m \u001b[0;32mimport\u001b[0m \u001b[0mDATA_PREP\u001b[0m\u001b[0;34m\u001b[0m\u001b[0;34m\u001b[0m\u001b[0m\n\u001b[0m",
      "\u001b[0;31mImportError\u001b[0m: attempted relative import with no known parent package"
     ]
    }
   ],
   "source": [
    "from ..data_prep.data_preparation import DATA_PREP"
   ]
  },
  {
   "cell_type": "code",
   "execution_count": null,
   "id": "19271091-ca3f-4400-8b19-84e1e9fef059",
   "metadata": {},
   "outputs": [],
   "source": []
  },
  {
   "cell_type": "code",
   "execution_count": null,
   "id": "feddad18-3804-4eb7-9b3f-1aafe877f2e8",
   "metadata": {},
   "outputs": [],
   "source": []
  },
  {
   "cell_type": "code",
   "execution_count": null,
   "id": "7e22d22c-aeb9-4bb4-858f-795cce197d7d",
   "metadata": {},
   "outputs": [],
   "source": []
  },
  {
   "cell_type": "code",
   "execution_count": null,
   "id": "aaf8d56e-0739-4f7f-8008-b61f6963ba15",
   "metadata": {},
   "outputs": [],
   "source": []
  },
  {
   "cell_type": "code",
   "execution_count": null,
   "id": "cd281af9-0737-4bc6-b5b1-6f2105371a77",
   "metadata": {},
   "outputs": [],
   "source": []
  },
  {
   "cell_type": "code",
   "execution_count": 2,
   "id": "76deae59-dfb0-434e-b63b-99b14b1aea30",
   "metadata": {},
   "outputs": [
    {
     "data": {
      "text/html": [
       "<div>\n",
       "<style scoped>\n",
       "    .dataframe tbody tr th:only-of-type {\n",
       "        vertical-align: middle;\n",
       "    }\n",
       "\n",
       "    .dataframe tbody tr th {\n",
       "        vertical-align: top;\n",
       "    }\n",
       "\n",
       "    .dataframe thead th {\n",
       "        text-align: right;\n",
       "    }\n",
       "</style>\n",
       "<table border=\"1\" class=\"dataframe\">\n",
       "  <thead>\n",
       "    <tr style=\"text-align: right;\">\n",
       "      <th></th>\n",
       "      <th>patient_id</th>\n",
       "      <th>session_nr</th>\n",
       "      <th>csc_nr</th>\n",
       "      <th>samples</th>\n",
       "      <th>timestamps</th>\n",
       "      <th>brain_region</th>\n",
       "      <th>movie_timestamps</th>\n",
       "      <th>movie_times</th>\n",
       "      <th>movie_samples</th>\n",
       "      <th>filtered</th>\n",
       "    </tr>\n",
       "  </thead>\n",
       "  <tbody>\n",
       "    <tr>\n",
       "      <th>0</th>\n",
       "      <td>66</td>\n",
       "      <td>1</td>\n",
       "      <td>1</td>\n",
       "      <td>[87.43982571348546, 89.84766536594209, 90.3204...</td>\n",
       "      <td>[117413594184.0, 117413595184.00008, 117413596...</td>\n",
       "      <td>LA1</td>\n",
       "      <td>[118858083.90916708, 118858084.90916714, 11885...</td>\n",
       "      <td>[0.0, 1.0, 2.0, 3.0, 4.0, 5.0, 6.0, 7.0, 8.0, ...</td>\n",
       "      <td>[-24.47657218848258, -22.39801085368898, -12.1...</td>\n",
       "      <td>[-24.167021295546096, -21.893040397424382, -14...</td>\n",
       "    </tr>\n",
       "    <tr>\n",
       "      <th>1</th>\n",
       "      <td>66</td>\n",
       "      <td>1</td>\n",
       "      <td>2</td>\n",
       "      <td>[-112.32878007748644, -105.68245154346481, -10...</td>\n",
       "      <td>[117413594184.0, 117413595184.00008, 117413596...</td>\n",
       "      <td>LA2</td>\n",
       "      <td>[118858083.90916708, 118858084.90916714, 11885...</td>\n",
       "      <td>[0.0, 1.0, 2.0, 3.0, 4.0, 5.0, 6.0, 7.0, 8.0, ...</td>\n",
       "      <td>[3.416561392060807, -1.5834911597997927, 3.545...</td>\n",
       "      <td>[4.541718647698573, -0.3145636776659577, 3.105...</td>\n",
       "    </tr>\n",
       "    <tr>\n",
       "      <th>2</th>\n",
       "      <td>66</td>\n",
       "      <td>1</td>\n",
       "      <td>3</td>\n",
       "      <td>[35.280022626412645, 38.41461657270526, 38.082...</td>\n",
       "      <td>[117413594184.0, 117413595184.00008, 117413596...</td>\n",
       "      <td>LA3</td>\n",
       "      <td>[118858083.90916708, 118858084.90916714, 11885...</td>\n",
       "      <td>[0.0, 1.0, 2.0, 3.0, 4.0, 5.0, 6.0, 7.0, 8.0, ...</td>\n",
       "      <td>[-90.45943133935535, -94.670900473053, -84.324...</td>\n",
       "      <td>[-89.3749207522789, -93.18188589754004, -84.99...</td>\n",
       "    </tr>\n",
       "    <tr>\n",
       "      <th>3</th>\n",
       "      <td>66</td>\n",
       "      <td>1</td>\n",
       "      <td>4</td>\n",
       "      <td>[-21.80578448318883, -15.109694822165995, -10....</td>\n",
       "      <td>[117413594184.0, 117413595184.00008, 117413596...</td>\n",
       "      <td>LA4</td>\n",
       "      <td>[118858083.90916708, 118858084.90916714, 11885...</td>\n",
       "      <td>[0.0, 1.0, 2.0, 3.0, 4.0, 5.0, 6.0, 7.0, 8.0, ...</td>\n",
       "      <td>[-14.278070985897402, -13.904018199195253, -8....</td>\n",
       "      <td>[-14.055693463263012, -14.850911693063427, -7....</td>\n",
       "    </tr>\n",
       "    <tr>\n",
       "      <th>4</th>\n",
       "      <td>66</td>\n",
       "      <td>1</td>\n",
       "      <td>5</td>\n",
       "      <td>[-8.413394433973691, -0.037944228473827606, 0....</td>\n",
       "      <td>[117413594184.0, 117413595184.00008, 117413596...</td>\n",
       "      <td>LA5</td>\n",
       "      <td>[118858083.90916708, 118858084.90916714, 11885...</td>\n",
       "      <td>[0.0, 1.0, 2.0, 3.0, 4.0, 5.0, 6.0, 7.0, 8.0, ...</td>\n",
       "      <td>[6.0684185380560365, 4.566757940340394, 8.7837...</td>\n",
       "      <td>[7.790770432717207, 6.728938414568814, 8.23944...</td>\n",
       "    </tr>\n",
       "  </tbody>\n",
       "</table>\n",
       "</div>"
      ],
      "text/plain": [
       "   patient_id  session_nr  csc_nr  \\\n",
       "0          66           1       1   \n",
       "1          66           1       2   \n",
       "2          66           1       3   \n",
       "3          66           1       4   \n",
       "4          66           1       5   \n",
       "\n",
       "                                             samples  \\\n",
       "0  [87.43982571348546, 89.84766536594209, 90.3204...   \n",
       "1  [-112.32878007748644, -105.68245154346481, -10...   \n",
       "2  [35.280022626412645, 38.41461657270526, 38.082...   \n",
       "3  [-21.80578448318883, -15.109694822165995, -10....   \n",
       "4  [-8.413394433973691, -0.037944228473827606, 0....   \n",
       "\n",
       "                                          timestamps brain_region  \\\n",
       "0  [117413594184.0, 117413595184.00008, 117413596...          LA1   \n",
       "1  [117413594184.0, 117413595184.00008, 117413596...          LA2   \n",
       "2  [117413594184.0, 117413595184.00008, 117413596...          LA3   \n",
       "3  [117413594184.0, 117413595184.00008, 117413596...          LA4   \n",
       "4  [117413594184.0, 117413595184.00008, 117413596...          LA5   \n",
       "\n",
       "                                    movie_timestamps  \\\n",
       "0  [118858083.90916708, 118858084.90916714, 11885...   \n",
       "1  [118858083.90916708, 118858084.90916714, 11885...   \n",
       "2  [118858083.90916708, 118858084.90916714, 11885...   \n",
       "3  [118858083.90916708, 118858084.90916714, 11885...   \n",
       "4  [118858083.90916708, 118858084.90916714, 11885...   \n",
       "\n",
       "                                         movie_times  \\\n",
       "0  [0.0, 1.0, 2.0, 3.0, 4.0, 5.0, 6.0, 7.0, 8.0, ...   \n",
       "1  [0.0, 1.0, 2.0, 3.0, 4.0, 5.0, 6.0, 7.0, 8.0, ...   \n",
       "2  [0.0, 1.0, 2.0, 3.0, 4.0, 5.0, 6.0, 7.0, 8.0, ...   \n",
       "3  [0.0, 1.0, 2.0, 3.0, 4.0, 5.0, 6.0, 7.0, 8.0, ...   \n",
       "4  [0.0, 1.0, 2.0, 3.0, 4.0, 5.0, 6.0, 7.0, 8.0, ...   \n",
       "\n",
       "                                       movie_samples  \\\n",
       "0  [-24.47657218848258, -22.39801085368898, -12.1...   \n",
       "1  [3.416561392060807, -1.5834911597997927, 3.545...   \n",
       "2  [-90.45943133935535, -94.670900473053, -84.324...   \n",
       "3  [-14.278070985897402, -13.904018199195253, -8....   \n",
       "4  [6.0684185380560365, 4.566757940340394, 8.7837...   \n",
       "\n",
       "                                            filtered  \n",
       "0  [-24.167021295546096, -21.893040397424382, -14...  \n",
       "1  [4.541718647698573, -0.3145636776659577, 3.105...  \n",
       "2  [-89.3749207522789, -93.18188589754004, -84.99...  \n",
       "3  [-14.055693463263012, -14.850911693063427, -7....  \n",
       "4  [7.790770432717207, 6.728938414568814, 8.23944...  "
      ]
     },
     "execution_count": 2,
     "metadata": {},
     "output_type": "execute_result"
    }
   ],
   "source": [
    "import scipy.io as sio\n",
    "destination_folder_path = \"lfp_data\"\n",
    "file_name = \"p66\"\n",
    "file_name += f\"_notch{filter_notch[0]}\" if filter_notch else \"\"\n",
    "file_name += f\"_lowpass{filter_lowpass[0]}\" if filter_lowpass else \"\" \n",
    "file_name += \"zscored\" if zscored else \"\"\n",
    "file_name += f\"outs{outlier_limit}\" if outliers else \"\" \n",
    "sio.savemat(os.path.join(destination_folder_path, file_name, '.mat'), df)\n",
    "\n",
    "{name: col.values for name, col in df.items() if name in save_cols}"
   ]
  },
  {
   "cell_type": "code",
   "execution_count": 2,
   "id": "8298a83e-2725-4296-b1b6-be5344c7e3df",
   "metadata": {},
   "outputs": [],
   "source": []
  },
  {
   "cell_type": "code",
   "execution_count": null,
   "id": "cb818e2c-915c-4ddc-b643-f65d6ab5495a",
   "metadata": {},
   "outputs": [],
   "source": []
  }
 ],
 "metadata": {
  "kernelspec": {
   "display_name": "Python 3 (ipykernel)",
   "language": "python",
   "name": "python3"
  },
  "language_info": {
   "codemirror_mode": {
    "name": "ipython",
    "version": 3
   },
   "file_extension": ".py",
   "mimetype": "text/x-python",
   "name": "python",
   "nbconvert_exporter": "python",
   "pygments_lexer": "ipython3",
   "version": "3.8.12"
  }
 },
 "nbformat": 4,
 "nbformat_minor": 5
}
