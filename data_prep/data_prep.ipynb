{
 "cells": [
  {
   "cell_type": "markdown",
   "id": "d79128bc-3a92-469f-a3db-3bb57e16645e",
   "metadata": {
    "tags": []
   },
   "source": [
    "### 0. Imports"
   ]
  },
  {
   "cell_type": "code",
   "execution_count": 1,
   "id": "99ecf60b-8ea0-4bb8-ac9b-a2f3e8ca0d1a",
   "metadata": {},
   "outputs": [
    {
     "name": "stdout",
     "output_type": "stream",
     "text": [
      "Epiphyte Tube version loaded.\n",
      "Connecting fkaltenberger@134.2.168.111:3306\n"
     ]
    }
   ],
   "source": [
    "import pandas as pd\n",
    "\n",
    "import sys\n",
    "sys.path.append('/home/rachel/Documents/lfp2spikes/modularized_code') \n",
    "from data_prep.data_preparation import DATA_PREP\n",
    "from data_loader.lfp_loader import LFP_LOADER\n",
    "from data_loader.spike_loader import SPIKE_LOADER\n"
   ]
  },
  {
   "cell_type": "markdown",
   "id": "c82c96fb-44bf-4cbf-a2a3-f4e8b9649a17",
   "metadata": {
    "tags": []
   },
   "source": [
    "### 1. Inits and data loading"
   ]
  },
  {
   "cell_type": "code",
   "execution_count": 2,
   "id": "ae7fe499-37a4-4709-9648-915e0c58d485",
   "metadata": {},
   "outputs": [
    {
     "name": "stdout",
     "output_type": "stream",
     "text": [
      "/home/rachel/Documents/lfp2spikes/modularized_code\n"
     ]
    }
   ],
   "source": [
    "dp = DATA_PREP()\n",
    "lfp_ldr = LFP_LOADER()\n",
    "spk_ldr = SPIKE_LOADER()"
   ]
  },
  {
   "cell_type": "code",
   "execution_count": null,
   "id": "ceaa7985-04b4-41fa-ba10-199620de3cb7",
   "metadata": {},
   "outputs": [],
   "source": [
    "#path_lfp = \"Documents/lfp2spikes/code/data_prep/data/prepro_data/pat66_LFP_df_prepro.csv\"\n",
    "#path_lfp = \"/home/rachel/Documents/lfp2spikes/code/data_prep/data/prepro_data/pat66_LFP_df_prepro.csv\"\n",
    "path_lfp = \"../data/lfp_data/p66_lfps_notch50_zscore.csv\"\n",
    "#path_spikes = \"/home/rachel/Documents/lfp2spikes/code/data_prep/data/prepro_data/pat66_spikes_df_prepro.csv\"\n",
    "path_spikes = \"../data/spikes_data/p66_spikes_bin1ms.csv\"\n",
    "\n",
    "df_lfps = pd.read_pickle(path_lfp)\n",
    "df_spikes = pd.read_pickle(path_spikes)\n",
    "\n",
    "#df_lfps_orig = df_lfps.copy()"
   ]
  },
  {
   "cell_type": "markdown",
   "id": "70336189-2b5d-4c4b-84fc-16e51b14cd73",
   "metadata": {},
   "source": [
    "Set all variables:"
   ]
  },
  {
   "cell_type": "code",
   "execution_count": 3,
   "id": "f2613ce2-4a4c-4308-a35d-0b153b48ebc5",
   "metadata": {},
   "outputs": [],
   "source": [
    "bin_size = 1\n",
    "SUA = True\n",
    "MUA = False\n",
    "spike_type = \"SUA\" if SUA else (\"MUA\" if MUA else \"ALL\")\n",
    "selected_channels = [5, 6, 9, 10, 11, 12, 13, 16, 36, 40]\n",
    "#selected_channels = [57, 58, 59, 60, 61, 63, 64, 79, 80]\n",
    "\n",
    "# moving average parameters\n",
    "ma_window_size = None\n",
    "ma_shift = None\n",
    "\n",
    "# cliping parameters\n",
    "pre_window = 30\n",
    "lag = 1  # bin_size\n",
    "clip_size = (pre_window, lag)\n",
    "origin = \"zscored\"\n",
    "clip_mode=\"extend\"\n",
    "\n",
    "# split variables\n",
    "number_frames_in_clip = (pre_window/40) / bin_size\n",
    "length_of_frame = 40\n",
    "\n"
   ]
  },
  {
   "cell_type": "markdown",
   "id": "50f79785-aa2f-400d-a2e8-bc5e29d8b9d5",
   "metadata": {
    "tags": []
   },
   "source": [
    "### 2. Prepare data"
   ]
  },
  {
   "cell_type": "code",
   "execution_count": 5,
   "id": "c696a5c4-59d5-40da-a721-1fb16c4263c2",
   "metadata": {},
   "outputs": [
    {
     "name": "stdout",
     "output_type": "stream",
     "text": [
      "Binned spikes to 10ms bins\n",
      "Data combined for channels: [57, 58, 59, 60, 61, 63, 64, 79, 80]\n",
      "Clipped lfps (lagged) with clip size (10, 1)\n",
      "4962970\n",
      "4962970\n",
      "4962970\n",
      "4962970\n",
      "4962970\n",
      "4962970\n",
      "4962970\n",
      "4962970\n",
      "4962970\n",
      "4962970\n",
      "4962970\n",
      "4962970\n",
      "4962970\n",
      "4962970\n",
      "4962970\n",
      "4962970\n",
      "4962970\n",
      "4962970\n",
      "4962970\n",
      "4962970\n",
      "Clipped spikes (lagged) with clip mode extend\n"
     ]
    },
    {
     "name": "stderr",
     "output_type": "stream",
     "text": [
      "/home/rachel/Documents/lfp2spikes/modularized_code/data_prep/data_preparation.py:463: SettingWithCopyWarning: \n",
      "A value is trying to be set on a copy of a slice from a DataFrame\n",
      "\n",
      "See the caveats in the documentation: https://pandas.pydata.org/pandas-docs/stable/user_guide/indexing.html#returning-a-view-versus-a-copy\n",
      "  df_spikes[f\"bin{bin_size}_extended\"][i] = df_spikes[f\"bin{bin_size}_extended\"][i][pre_window:][:max_t_lfp]\n",
      "/home/rachel/Documents/lfp2spikes/modularized_code/data_prep/data_preparation.py:468: SettingWithCopyWarning: \n",
      "A value is trying to be set on a copy of a slice from a DataFrame\n",
      "\n",
      "See the caveats in the documentation: https://pandas.pydata.org/pandas-docs/stable/user_guide/indexing.html#returning-a-view-versus-a-copy\n",
      "  df_lfps[f\"{origin}_c{clip_size}\"][i] = df_lfps[f\"{origin}_c{clip_size}\"][i][:max_t]\n"
     ]
    }
   ],
   "source": [
    "lfp_ldr.set_start_stop_times(df_lfps)\n",
    "\n",
    "df_spikes = spk_ldr.bin_spikes(\n",
    "    df_spikes, \n",
    "    lfp_ldr.get_start_stop_times(), \n",
    "    bin_size\n",
    ")\n",
    "print(f\"Binned spikes to {bin_size}ms bins\")\n",
    "\n",
    "df_lfps, df_spikes = dp.compress_dataset(\n",
    "    df_lfps, \n",
    "    df_spikes,\n",
    "    bin_size,\n",
    "    use_S_spikes=SUA, \n",
    "    use_M_spikes=MUA, \n",
    "    selected_channels=selected_channels\n",
    ")\n",
    "print(f\"Data combined for channels: {selected_channels}\")\n",
    "\n",
    "df_lfps = dp.clip_lagged_lfps(\n",
    "    df_lfps, \n",
    "    origin, \n",
    "    clip_size\n",
    ")\n",
    "\n",
    "print(f\"Clipped lfps (lagged) with clip size {clip_size}\")\n",
    "\n",
    "df_spikes = dp.clip_lagged_spikes(\n",
    "    df_spikes, \n",
    "    df_lfps, \n",
    "    bin_size, \n",
    "    origin, \n",
    "    clip_size, \n",
    "    clip_mode\n",
    ")\n",
    "\n",
    "print(f\"Clipped spikes (lagged) with clip mode {clip_mode}\")\n"
   ]
  },
  {
   "cell_type": "code",
   "execution_count": 6,
   "id": "b9e9d843-8bb5-4a4c-9f07-ed44e31b523b",
   "metadata": {},
   "outputs": [
    {
     "name": "stdout",
     "output_type": "stream",
     "text": [
      "(4962970,)\n",
      "(4962970, 10)\n"
     ]
    }
   ],
   "source": [
    "print(df_spikes[f\"bin{bin_size}_extended\"][0].shape)\n",
    "print(df_lfps[f\"{origin}_c{clip_size}\"][0].shape)"
   ]
  },
  {
   "cell_type": "code",
   "execution_count": 7,
   "id": "daac3fe1-8786-4735-bdb3-dde496eb406f",
   "metadata": {},
   "outputs": [],
   "source": [
    "save_name_lfps = f\"data/{spike_type}/pat66_lfps{spike_type}_df_{origin}_c{clip_size}_b{bin_size}\"\n",
    "save_name_spikes = f\"data/{spike_type}/pat66_spikes{spike_type}_df_b{bin_size}_c{clip_size}\"\n",
    "\n",
    "lfp_ldr.save_lfps(df_lfps, save_name_lfps)\n",
    "lfp_ldr.save_lfps(df_spikes, save_name_spikes)"
   ]
  },
  {
   "cell_type": "code",
   "execution_count": 5,
   "id": "528eb303-b85b-44a3-a0b1-891f73605c56",
   "metadata": {},
   "outputs": [
    {
     "name": "stdout",
     "output_type": "stream",
     "text": [
      "Binned spikes to 1ms bins\n",
      "Data combined for channels: [5, 6, 9, 10, 11, 12, 13]\n"
     ]
    }
   ],
   "source": [
    "lfp_ldr.set_start_stop_times(df_lfps)\n",
    "\n",
    "df_spikes_bnd = spk_ldr.bin_spikes(\n",
    "    df_spikes, \n",
    "    lfp_ldr.get_start_stop_times(), \n",
    "    bin_size\n",
    ")\n",
    "print(f\"Binned spikes to {bin_size}ms bins\")\n",
    "\n",
    "df_lfps_comp, df_spikes_comp = dp.compress_dataset(\n",
    "    df_lfps, \n",
    "    df_spikes_bnd,\n",
    "    bin_size,\n",
    "    use_S_spikes=SUA, \n",
    "    use_M_spikes=MUA, \n",
    "    selected_channels=selected_channels\n",
    ")\n",
    "print(f\"Data combined for channels: {selected_channels}\")\n",
    "\n",
    "df_lfps_clpd = dp.clip_lagged_lfps(\n",
    "    df_lfps_comp, \n",
    "    origin, \n",
    "    clip_size\n",
    ")\n",
    "\n",
    "print(f\"Clipped lfps (lagged) with clip size {clip_size}\")\n",
    "\n",
    "df_spikes_ext = dp.clip_lagged_spikes(\n",
    "    df_spikes_comp, \n",
    "    df_lfps_clpd, \n",
    "    bin_size, \n",
    "    origin, \n",
    "    clip_size, \n",
    "    clip_mode\n",
    ")\n",
    "\n",
    "print(f\"Clipped spikes (lagged) with clip mode {clip_mode}\")\n"
   ]
  },
  {
   "cell_type": "code",
   "execution_count": 6,
   "id": "692e2487-5a5b-4fac-ba3c-5f788668df07",
   "metadata": {},
   "outputs": [
    {
     "name": "stdout",
     "output_type": "stream",
     "text": [
      "(4962933,)\n",
      "(4962933, 50)\n"
     ]
    }
   ],
   "source": [
    "print(df_spikes_ext[f\"bin{bin_size}_extended\"][0].shape)\n",
    "print(df_lfps_clpd[f\"{origin}_c{clip_size}\"][0].shape)"
   ]
  },
  {
   "cell_type": "markdown",
   "id": "6a7c4031-cbc5-4880-9566-00654f70a0d0",
   "metadata": {
    "tags": []
   },
   "source": [
    "#### 2.1 Controll STA"
   ]
  },
  {
   "cell_type": "code",
   "execution_count": 8,
   "id": "b2d678e2-0e9c-4a66-8674-3315b7e02471",
   "metadata": {},
   "outputs": [
    {
     "data": {
      "text/html": [
       "<div>\n",
       "<style scoped>\n",
       "    .dataframe tbody tr th:only-of-type {\n",
       "        vertical-align: middle;\n",
       "    }\n",
       "\n",
       "    .dataframe tbody tr th {\n",
       "        vertical-align: top;\n",
       "    }\n",
       "\n",
       "    .dataframe thead th {\n",
       "        text-align: right;\n",
       "    }\n",
       "</style>\n",
       "<table border=\"1\" class=\"dataframe\">\n",
       "  <thead>\n",
       "    <tr style=\"text-align: right;\">\n",
       "      <th></th>\n",
       "      <th>patient_id</th>\n",
       "      <th>session_nr</th>\n",
       "      <th>csc_nr</th>\n",
       "      <th>samples</th>\n",
       "      <th>timestamps</th>\n",
       "      <th>brain_region</th>\n",
       "      <th>movie_timestamps</th>\n",
       "      <th>movie_times</th>\n",
       "      <th>movie_samples</th>\n",
       "      <th>filtered</th>\n",
       "      <th>zscored</th>\n",
       "    </tr>\n",
       "  </thead>\n",
       "  <tbody>\n",
       "    <tr>\n",
       "      <th>0</th>\n",
       "      <td>66</td>\n",
       "      <td>1</td>\n",
       "      <td>1</td>\n",
       "      <td>[87.43982571348546, 89.84766536594209, 90.3204...</td>\n",
       "      <td>[117413594184.0, 117413595184.00008, 117413596...</td>\n",
       "      <td>LA1</td>\n",
       "      <td>[118858083.90916708, 118858084.90916714, 11885...</td>\n",
       "      <td>[0.0, 1.0, 2.0, 3.0, 4.0, 5.0, 6.0, 7.0, 8.0, ...</td>\n",
       "      <td>[-24.47657218848258, -22.39801085368898, -12.1...</td>\n",
       "      <td>[-24.16946400748021, -22.830642924634162, -13....</td>\n",
       "      <td>[-0.1634750409223574, -0.15459605837772247, -0...</td>\n",
       "    </tr>\n",
       "  </tbody>\n",
       "</table>\n",
       "</div>"
      ],
      "text/plain": [
       "   patient_id  session_nr  csc_nr  \\\n",
       "0          66           1       1   \n",
       "\n",
       "                                             samples  \\\n",
       "0  [87.43982571348546, 89.84766536594209, 90.3204...   \n",
       "\n",
       "                                          timestamps brain_region  \\\n",
       "0  [117413594184.0, 117413595184.00008, 117413596...          LA1   \n",
       "\n",
       "                                    movie_timestamps  \\\n",
       "0  [118858083.90916708, 118858084.90916714, 11885...   \n",
       "\n",
       "                                         movie_times  \\\n",
       "0  [0.0, 1.0, 2.0, 3.0, 4.0, 5.0, 6.0, 7.0, 8.0, ...   \n",
       "\n",
       "                                       movie_samples  \\\n",
       "0  [-24.47657218848258, -22.39801085368898, -12.1...   \n",
       "\n",
       "                                            filtered  \\\n",
       "0  [-24.16946400748021, -22.830642924634162, -13....   \n",
       "\n",
       "                                             zscored  \n",
       "0  [-0.1634750409223574, -0.15459605837772247, -0...  "
      ]
     },
     "execution_count": 8,
     "metadata": {},
     "output_type": "execute_result"
    }
   ],
   "source": [
    "import numpy as np \n",
    "\n",
    "df_lfps_clpd[f\"sta_idx{bin_size}\"] = df_spikes_ext.apply(\n",
    "    #lambda x : np.where(x[f\"bin{bin_size}_cnt\"] == 1)[0]\n",
    "    lambda x : np.where(x[f\"bin{bin_size}_extended\"] > 0)[0]\n",
    "    , axis=1\n",
    ")\n",
    "df_lfps.head(1)"
   ]
  },
  {
   "cell_type": "code",
   "execution_count": 9,
   "id": "f080226d-3c33-475f-b1c0-9fbb10efdffa",
   "metadata": {},
   "outputs": [
    {
     "data": {
      "text/plain": [
       "array([0.8770737 , 0.91447299, 0.92811755, 0.98960077, 1.09792582,\n",
       "       1.04247361, 1.21900566, 1.26784421, 1.22050952, 1.24762215])"
      ]
     },
     "execution_count": 9,
     "metadata": {},
     "output_type": "execute_result"
    }
   ],
   "source": [
    "df_lfps_clpd[f\"{origin}_c{clip_size}\"][0][21]"
   ]
  },
  {
   "cell_type": "code",
   "execution_count": 10,
   "id": "114183f9-3581-463b-8143-8f632f18df87",
   "metadata": {},
   "outputs": [
    {
     "data": {
      "text/html": [
       "<div>\n",
       "<style scoped>\n",
       "    .dataframe tbody tr th:only-of-type {\n",
       "        vertical-align: middle;\n",
       "    }\n",
       "\n",
       "    .dataframe tbody tr th {\n",
       "        vertical-align: top;\n",
       "    }\n",
       "\n",
       "    .dataframe thead th {\n",
       "        text-align: right;\n",
       "    }\n",
       "</style>\n",
       "<table border=\"1\" class=\"dataframe\">\n",
       "  <thead>\n",
       "    <tr style=\"text-align: right;\">\n",
       "      <th></th>\n",
       "      <th>patient_id</th>\n",
       "      <th>session_nr</th>\n",
       "      <th>csc_nr</th>\n",
       "      <th>samples</th>\n",
       "      <th>timestamps</th>\n",
       "      <th>brain_region</th>\n",
       "      <th>movie_timestamps</th>\n",
       "      <th>movie_times</th>\n",
       "      <th>movie_samples</th>\n",
       "      <th>filtered</th>\n",
       "      <th>zscored</th>\n",
       "      <th>zscored_c(10, 1)</th>\n",
       "      <th>sta_idx1</th>\n",
       "      <th>STA_spike_int10_zscored_c(10, 1)</th>\n",
       "    </tr>\n",
       "  </thead>\n",
       "  <tbody>\n",
       "    <tr>\n",
       "      <th>0</th>\n",
       "      <td>66</td>\n",
       "      <td>1</td>\n",
       "      <td>5</td>\n",
       "      <td>[-8.413394433973691, -0.037944228473827606, 0....</td>\n",
       "      <td>[117413594184.0, 117413595184.00008, 117413596...</td>\n",
       "      <td>LA5</td>\n",
       "      <td>[118858083.90916708, 118858084.90916714, 11885...</td>\n",
       "      <td>[0.0, 1.0, 2.0, 3.0, 4.0, 5.0, 6.0, 7.0, 8.0, ...</td>\n",
       "      <td>[6.0684185380560365, 4.566757940340394, 8.7837...</td>\n",
       "      <td>[7.783531321245922, 5.871285089688449, 9.54250...</td>\n",
       "      <td>[0.0532494889743174, 0.04023735724268466, 0.06...</td>\n",
       "      <td>[[0.0532494889743174, 0.04023735724268466, 0.0...</td>\n",
       "      <td>[190, 340, 348, 776, 851, 909, 990, 1042, 1100...</td>\n",
       "      <td>[[-0.11150021198160545, -0.10142188433466834, ...</td>\n",
       "    </tr>\n",
       "  </tbody>\n",
       "</table>\n",
       "</div>"
      ],
      "text/plain": [
       "   patient_id  session_nr  csc_nr  \\\n",
       "0          66           1       5   \n",
       "\n",
       "                                             samples  \\\n",
       "0  [-8.413394433973691, -0.037944228473827606, 0....   \n",
       "\n",
       "                                          timestamps brain_region  \\\n",
       "0  [117413594184.0, 117413595184.00008, 117413596...          LA5   \n",
       "\n",
       "                                    movie_timestamps  \\\n",
       "0  [118858083.90916708, 118858084.90916714, 11885...   \n",
       "\n",
       "                                         movie_times  \\\n",
       "0  [0.0, 1.0, 2.0, 3.0, 4.0, 5.0, 6.0, 7.0, 8.0, ...   \n",
       "\n",
       "                                       movie_samples  \\\n",
       "0  [6.0684185380560365, 4.566757940340394, 8.7837...   \n",
       "\n",
       "                                            filtered  \\\n",
       "0  [7.783531321245922, 5.871285089688449, 9.54250...   \n",
       "\n",
       "                                             zscored  \\\n",
       "0  [0.0532494889743174, 0.04023735724268466, 0.06...   \n",
       "\n",
       "                                    zscored_c(10, 1)  \\\n",
       "0  [[0.0532494889743174, 0.04023735724268466, 0.0...   \n",
       "\n",
       "                                            sta_idx1  \\\n",
       "0  [190, 340, 348, 776, 851, 909, 990, 1042, 1100...   \n",
       "\n",
       "                    STA_spike_int10_zscored_c(10, 1)  \n",
       "0  [[-0.11150021198160545, -0.10142188433466834, ...  "
      ]
     },
     "execution_count": 10,
     "metadata": {},
     "output_type": "execute_result"
    }
   ],
   "source": [
    "interval = pre_window\n",
    "source_sta = f\"{origin}_c{clip_size}\" # \"zscored\"\n",
    "#spike_idx = np.where(df_spikes[f\"STA_bin{bin_size}_cnt\"][0] == 1)[0]\n",
    "\n",
    "df_lfps_clpd[f\"STA_spike_int{interval}_{source_sta}\"] = df_lfps_clpd.apply(\n",
    "    lambda x :\n",
    "        x[source_sta][np.array(\n",
    "            [i\n",
    "            #[np.arange(i-interval, i+1, 1) \n",
    "             for i in x[f\"sta_idx{bin_size}\"]\n",
    "            ]\n",
    "             #if i+1+interval<len(x[source_sta])]\n",
    "        )]\n",
    "    , axis=1\n",
    ")\n",
    "df_lfps_clpd.head(1)"
   ]
  },
  {
   "cell_type": "code",
   "execution_count": 11,
   "id": "83da47c9-66e2-4c25-a394-e40aec2f9cc0",
   "metadata": {},
   "outputs": [
    {
     "data": {
      "image/png": "[encoded data removed]",
      "text/plain": [
       "<Figure size 432x288 with 1 Axes>"
      ]
     },
     "metadata": {
      "needs_background": "light"
     },
     "output_type": "display_data"
    }
   ],
   "source": [
    "import matplotlib.pyplot as plt\n",
    "plt.plot(df_lfps_clpd[f\"STA_spike_int{interval}_{source_sta}\"][0].transpose().mean(axis=1))\n",
    "plt.show()"
   ]
  },
  {
   "cell_type": "code",
   "execution_count": 12,
   "id": "4de8c0ce-c5a2-4e9d-98a0-c01ac42ee385",
   "metadata": {},
   "outputs": [
    {
     "data": {
      "image/png": "[encoded data removed]",
      "text/plain": [
       "<Figure size 432x288 with 1 Axes>"
      ]
     },
     "metadata": {
      "needs_background": "light"
     },
     "output_type": "display_data"
    }
   ],
   "source": [
    "sta = np.zeros(pre_window)\n",
    "n_csc = len(df_lfps_clpd)\n",
    "for i in range(n_csc): \n",
    "    sta += df_lfps_clpd[f\"STA_spike_int{interval}_{source_sta}\"][i].transpose().mean(axis=1)\n",
    "plt.plot(sta/n_csc)\n",
    "plt.show()"
   ]
  },
  {
   "cell_type": "markdown",
   "id": "d2719867-4a16-4732-8b53-ba9582b171e0",
   "metadata": {
    "tags": []
   },
   "source": [
    "### 3. Get splits"
   ]
  },
  {
   "cell_type": "code",
   "execution_count": 4,
   "id": "5b665a3b-8ce8-4ff9-8733-c5a5b647e637",
   "metadata": {},
   "outputs": [],
   "source": [
    "csc = \"channels_5-40\"\n",
    "save_name_lfps = f\"data/{spike_type}/{csc}/pat66_lfps{spike_type}_df_{origin}_c{clip_size}_b{bin_size}.csv\"\n",
    "save_name_spikes = f\"data/{spike_type}/{csc}/pat66_spikes{spike_type}_df_b{bin_size}_c{clip_size}.csv\"\n",
    "\n",
    "df_lfps = dp.load_df_from_pkl(save_name_lfps)\n",
    "df_spikes = dp.load_df_from_pkl(save_name_spikes)"
   ]
  },
  {
   "cell_type": "code",
   "execution_count": 5,
   "id": "71bf9ca9-00b0-4458-ad2f-2cff31674a80",
   "metadata": {},
   "outputs": [
    {
     "name": "stdout",
     "output_type": "stream",
     "text": [
      "Data Split: Buffer 15, Sequence Length 0.03\n",
      "15\n",
      "Length of dataset: 4962953\n",
      "Length of base: 190882\n",
      "Length of buffer in nb of bins: 501\n",
      "Fold Length is: 37675\n",
      "*** DATA FOLD 2 *** \n",
      "\n",
      "Data Split: Buffer 15, Sequence Length 0.03\n",
      "15\n",
      "Length of dataset: 4962953\n",
      "Length of base: 190882\n",
      "Length of buffer in nb of bins: 501\n",
      "Fold Length is: 37675\n",
      "*** DATA FOLD 2 *** \n",
      "\n",
      "Data Split: Buffer 15, Sequence Length 0.03\n",
      "15\n",
      "Length of dataset: 4962953\n",
      "Length of base: 190882\n",
      "Length of buffer in nb of bins: 501\n",
      "Fold Length is: 37675\n",
      "*** DATA FOLD 2 *** \n",
      "\n",
      "Data Split: Buffer 15, Sequence Length 0.03\n",
      "15\n",
      "Length of dataset: 4962953\n",
      "Length of base: 190882\n",
      "Length of buffer in nb of bins: 501\n",
      "Fold Length is: 37675\n",
      "*** DATA FOLD 2 *** \n",
      "\n",
      "Data Split: Buffer 15, Sequence Length 0.03\n",
      "15\n",
      "Length of dataset: 4962953\n",
      "Length of base: 190882\n",
      "Length of buffer in nb of bins: 501\n",
      "Fold Length is: 37675\n",
      "*** DATA FOLD 2 *** \n",
      "\n",
      "Data Split: Buffer 15, Sequence Length 0.03\n",
      "15\n",
      "Length of dataset: 4962953\n",
      "Length of base: 190882\n",
      "Length of buffer in nb of bins: 501\n",
      "Fold Length is: 37675\n",
      "*** DATA FOLD 2 *** \n",
      "\n",
      "Data Split: Buffer 15, Sequence Length 0.03\n",
      "15\n",
      "Length of dataset: 4962953\n",
      "Length of base: 190882\n",
      "Length of buffer in nb of bins: 501\n",
      "Fold Length is: 37675\n",
      "*** DATA FOLD 2 *** \n",
      "\n",
      "Data Split: Buffer 15, Sequence Length 0.03\n",
      "15\n",
      "Length of dataset: 4962953\n",
      "Length of base: 190882\n",
      "Length of buffer in nb of bins: 501\n",
      "Fold Length is: 37675\n",
      "*** DATA FOLD 2 *** \n",
      "\n",
      "Data Split: Buffer 15, Sequence Length 0.03\n",
      "15\n",
      "Length of dataset: 4962953\n",
      "Length of base: 190882\n",
      "Length of buffer in nb of bins: 501\n",
      "Fold Length is: 37675\n",
      "*** DATA FOLD 2 *** \n",
      "\n",
      "Data Split: Buffer 15, Sequence Length 0.03\n",
      "15\n",
      "Length of dataset: 4962953\n",
      "Length of base: 190882\n",
      "Length of buffer in nb of bins: 501\n",
      "Fold Length is: 37675\n",
      "*** DATA FOLD 2 *** \n",
      "\n",
      "Data Split: Buffer 15, Sequence Length 0.03\n",
      "15\n",
      "Length of dataset: 4962953\n",
      "Length of base: 190882\n",
      "Length of buffer in nb of bins: 501\n",
      "Fold Length is: 37675\n",
      "*** DATA FOLD 2 *** \n",
      "\n",
      "Data Split: Buffer 15, Sequence Length 0.03\n",
      "15\n",
      "Length of dataset: 4962953\n",
      "Length of base: 190882\n",
      "Length of buffer in nb of bins: 501\n",
      "Fold Length is: 37675\n",
      "*** DATA FOLD 2 *** \n",
      "\n",
      "Data Split: Buffer 15, Sequence Length 0.03\n",
      "15\n",
      "Length of dataset: 4962953\n",
      "Length of base: 190882\n",
      "Length of buffer in nb of bins: 501\n",
      "Fold Length is: 37675\n",
      "*** DATA FOLD 2 *** \n",
      "\n",
      "Data Split: Buffer 15, Sequence Length 0.03\n",
      "15\n",
      "Length of dataset: 4962953\n",
      "Length of base: 190882\n",
      "Length of buffer in nb of bins: 501\n",
      "Fold Length is: 37675\n",
      "*** DATA FOLD 2 *** \n",
      "\n",
      "Data Split: Buffer 15, Sequence Length 0.03\n",
      "15\n",
      "Length of dataset: 4962953\n",
      "Length of base: 190882\n",
      "Length of buffer in nb of bins: 501\n",
      "Fold Length is: 37675\n",
      "*** DATA FOLD 2 *** \n",
      "\n",
      "Data Split: Buffer 15, Sequence Length 0.03\n",
      "15\n",
      "Length of dataset: 4962953\n",
      "Length of base: 190882\n",
      "Length of buffer in nb of bins: 501\n",
      "Fold Length is: 37675\n",
      "*** DATA FOLD 2 *** \n",
      "\n",
      "Data Split: Buffer 15, Sequence Length 0.03\n",
      "15\n",
      "Length of dataset: 4962953\n",
      "Length of base: 190882\n",
      "Length of buffer in nb of bins: 501\n",
      "Fold Length is: 37675\n",
      "*** DATA FOLD 2 *** \n",
      "\n",
      "Data Split: Buffer 15, Sequence Length 0.03\n",
      "15\n",
      "Length of dataset: 4962953\n",
      "Length of base: 190882\n",
      "Length of buffer in nb of bins: 501\n",
      "Fold Length is: 37675\n",
      "*** DATA FOLD 2 *** \n",
      "\n",
      "Data Split: Buffer 15, Sequence Length 0.03\n",
      "15\n",
      "Length of dataset: 4962953\n",
      "Length of base: 190882\n",
      "Length of buffer in nb of bins: 501\n",
      "Fold Length is: 37675\n",
      "*** DATA FOLD 2 *** \n",
      "\n",
      "Data Split: Buffer 15, Sequence Length 0.03\n",
      "15\n",
      "Length of dataset: 4962953\n",
      "Length of base: 190882\n",
      "Length of buffer in nb of bins: 501\n",
      "Fold Length is: 37675\n",
      "*** DATA FOLD 2 *** \n",
      "\n",
      "Data Split: Buffer 15, Sequence Length 0.03\n",
      "15\n",
      "Length of dataset: 4962953\n",
      "Length of base: 190882\n",
      "Length of buffer in nb of bins: 501\n",
      "Fold Length is: 37675\n",
      "*** DATA FOLD 2 *** \n",
      "\n",
      "Data Split: Buffer 15, Sequence Length 0.03\n",
      "15\n",
      "Length of dataset: 4962953\n",
      "Length of base: 190882\n",
      "Length of buffer in nb of bins: 501\n",
      "Fold Length is: 37675\n",
      "*** DATA FOLD 2 *** \n",
      "\n",
      "Data Split: Buffer 15, Sequence Length 0.03\n",
      "15\n",
      "Length of dataset: 4962953\n",
      "Length of base: 190882\n",
      "Length of buffer in nb of bins: 501\n",
      "Fold Length is: 37675\n",
      "*** DATA FOLD 2 *** \n",
      "\n",
      "Data Split: Buffer 15, Sequence Length 0.03\n",
      "15\n",
      "Length of dataset: 4962953\n",
      "Length of base: 190882\n",
      "Length of buffer in nb of bins: 501\n",
      "Fold Length is: 37675\n",
      "*** DATA FOLD 2 *** \n",
      "\n",
      "Data Split: Buffer 15, Sequence Length 0.03\n",
      "15\n",
      "Length of dataset: 4962953\n",
      "Length of base: 190882\n",
      "Length of buffer in nb of bins: 501\n",
      "Fold Length is: 37675\n",
      "*** DATA FOLD 2 *** \n",
      "\n",
      "Data Split: Buffer 15, Sequence Length 0.03\n",
      "15\n",
      "Length of dataset: 4962953\n",
      "Length of base: 190882\n",
      "Length of buffer in nb of bins: 501\n",
      "Fold Length is: 37675\n",
      "*** DATA FOLD 2 *** \n",
      "\n",
      "Data Split: Buffer 15, Sequence Length 0.03\n",
      "15\n",
      "Length of dataset: 4962953\n",
      "Length of base: 190882\n",
      "Length of buffer in nb of bins: 501\n",
      "Fold Length is: 37675\n",
      "*** DATA FOLD 2 *** \n",
      "\n",
      "Data Split: Buffer 15, Sequence Length 0.03\n",
      "15\n",
      "Length of dataset: 4962953\n",
      "Length of base: 190882\n",
      "Length of buffer in nb of bins: 501\n",
      "Fold Length is: 37675\n",
      "*** DATA FOLD 2 *** \n",
      "\n",
      "Data Split: Buffer 15, Sequence Length 0.03\n",
      "15\n",
      "Length of dataset: 4962953\n",
      "Length of base: 190882\n",
      "Length of buffer in nb of bins: 501\n",
      "Fold Length is: 37675\n",
      "*** DATA FOLD 2 *** \n",
      "\n",
      "Data Split: Buffer 15, Sequence Length 0.03\n",
      "15\n",
      "Length of dataset: 4962953\n",
      "Length of base: 190882\n",
      "Length of buffer in nb of bins: 501\n",
      "Fold Length is: 37675\n",
      "*** DATA FOLD 2 *** \n",
      "\n",
      "Data Split: Buffer 15, Sequence Length 0.03\n",
      "15\n",
      "Length of dataset: 4962953\n",
      "Length of base: 190882\n",
      "Length of buffer in nb of bins: 501\n",
      "Fold Length is: 37675\n",
      "*** DATA FOLD 2 *** \n",
      "\n",
      "Data Split: Buffer 15, Sequence Length 0.03\n",
      "15\n",
      "Length of dataset: 4962953\n",
      "Length of base: 190882\n",
      "Length of buffer in nb of bins: 501\n",
      "Fold Length is: 37675\n",
      "*** DATA FOLD 2 *** \n",
      "\n"
     ]
    },
    {
     "ename": "OSError",
     "evalue": "[Errno 28] No space left on device",
     "output_type": "error",
     "traceback": [
      "\u001b[0;31m---------------------------------------------------------------------------\u001b[0m",
      "\u001b[0;31mOSError\u001b[0m                                   Traceback (most recent call last)",
      "\u001b[0;32m/tmp/ipykernel_4125466/1921003820.py\u001b[0m in \u001b[0;36m<module>\u001b[0;34m\u001b[0m\n\u001b[1;32m     11\u001b[0m \u001b[0msave_name_spikes\u001b[0m \u001b[0;34m=\u001b[0m \u001b[0;34mf\"pat66_spikes{spike_type}_df_b{bin_size}_c{clip_size}\"\u001b[0m\u001b[0;34m\u001b[0m\u001b[0;34m\u001b[0m\u001b[0m\n\u001b[1;32m     12\u001b[0m \u001b[0;34m\u001b[0m\u001b[0m\n\u001b[0;32m---> 13\u001b[0;31m cv_folds = dp.create_cv_splits(\n\u001b[0m\u001b[1;32m     14\u001b[0m     \u001b[0mx_lfps\u001b[0m\u001b[0;34m,\u001b[0m\u001b[0;34m\u001b[0m\u001b[0;34m\u001b[0m\u001b[0m\n\u001b[1;32m     15\u001b[0m     \u001b[0mx_spikes\u001b[0m\u001b[0;34m,\u001b[0m\u001b[0;34m\u001b[0m\u001b[0;34m\u001b[0m\u001b[0m\n",
      "\u001b[0;32m~/Documents/lfp2spikes/modularized_code/data_prep/data_preparation.py\u001b[0m in \u001b[0;36mcreate_cv_splits\u001b[0;34m(self, x_lfps, x_spikes, ma_window_size, ma_shift, origin, clip_size, spike_type, number_frames_in_clip, length_of_frame, buffer_split, all_data, architecture, cv_folds, save_lfps, save_spikes)\u001b[0m\n\u001b[1;32m    680\u001b[0m \u001b[0;34m\u001b[0m\u001b[0m\n\u001b[1;32m    681\u001b[0m             \u001b[0mfold_data\u001b[0m\u001b[0;34m.\u001b[0m\u001b[0mappend\u001b[0m\u001b[0;34m(\u001b[0m\u001b[0;34m[\u001b[0m\u001b[0mdf_lfps_split\u001b[0m\u001b[0;34m,\u001b[0m \u001b[0mdf_spikes_split\u001b[0m\u001b[0;34m]\u001b[0m\u001b[0;34m)\u001b[0m\u001b[0;34m\u001b[0m\u001b[0;34m\u001b[0m\u001b[0m\n\u001b[0;32m--> 682\u001b[0;31m             \u001b[0mdf_lfps_split\u001b[0m\u001b[0;34m.\u001b[0m\u001b[0mto_pickle\u001b[0m\u001b[0;34m(\u001b[0m\u001b[0;34mf'data/{spike_type}/{save_lfps}_split{fold}.csv'\u001b[0m\u001b[0;34m)\u001b[0m\u001b[0;34m\u001b[0m\u001b[0;34m\u001b[0m\u001b[0m\n\u001b[0m\u001b[1;32m    683\u001b[0m             \u001b[0mdf_spikes_split\u001b[0m\u001b[0;34m.\u001b[0m\u001b[0mto_pickle\u001b[0m\u001b[0;34m(\u001b[0m\u001b[0;34mf'data/{spike_type}/{save_spikes}_split{fold}.csv'\u001b[0m\u001b[0;34m)\u001b[0m\u001b[0;34m\u001b[0m\u001b[0;34m\u001b[0m\u001b[0m\n\u001b[1;32m    684\u001b[0m \u001b[0;34m\u001b[0m\u001b[0m\n",
      "\u001b[0;32m~/Documents/virtualenvs/lfp2spikes/lib/python3.8/site-packages/pandas/core/generic.py\u001b[0m in \u001b[0;36mto_pickle\u001b[0;34m(self, path, compression, protocol, storage_options)\u001b[0m\n\u001b[1;32m   2955\u001b[0m         \u001b[0;32mfrom\u001b[0m \u001b[0mpandas\u001b[0m\u001b[0;34m.\u001b[0m\u001b[0mio\u001b[0m\u001b[0;34m.\u001b[0m\u001b[0mpickle\u001b[0m \u001b[0;32mimport\u001b[0m \u001b[0mto_pickle\u001b[0m\u001b[0;34m\u001b[0m\u001b[0;34m\u001b[0m\u001b[0m\n\u001b[1;32m   2956\u001b[0m \u001b[0;34m\u001b[0m\u001b[0m\n\u001b[0;32m-> 2957\u001b[0;31m         to_pickle(\n\u001b[0m\u001b[1;32m   2958\u001b[0m             \u001b[0mself\u001b[0m\u001b[0;34m,\u001b[0m\u001b[0;34m\u001b[0m\u001b[0;34m\u001b[0m\u001b[0m\n\u001b[1;32m   2959\u001b[0m             \u001b[0mpath\u001b[0m\u001b[0;34m,\u001b[0m\u001b[0;34m\u001b[0m\u001b[0;34m\u001b[0m\u001b[0m\n",
      "\u001b[0;32m~/Documents/virtualenvs/lfp2spikes/lib/python3.8/site-packages/pandas/io/pickle.py\u001b[0m in \u001b[0;36mto_pickle\u001b[0;34m(obj, filepath_or_buffer, compression, protocol, storage_options)\u001b[0m\n\u001b[1;32m    111\u001b[0m         \u001b[0;32melse\u001b[0m\u001b[0;34m:\u001b[0m\u001b[0;34m\u001b[0m\u001b[0;34m\u001b[0m\u001b[0m\n\u001b[1;32m    112\u001b[0m             \u001b[0;31m# letting pickle write directly to the buffer is more memory-efficient\u001b[0m\u001b[0;34m\u001b[0m\u001b[0;34m\u001b[0m\u001b[0;34m\u001b[0m\u001b[0m\n\u001b[0;32m--> 113\u001b[0;31m             pickle.dump(\n\u001b[0m\u001b[1;32m    114\u001b[0m                 \u001b[0;31m# error: Argument 2 to \"dump\" has incompatible type \"Union[IO[Any],\u001b[0m\u001b[0;34m\u001b[0m\u001b[0;34m\u001b[0m\u001b[0;34m\u001b[0m\u001b[0m\n\u001b[1;32m    115\u001b[0m                 \u001b[0;31m# RawIOBase, BufferedIOBase, TextIOBase, TextIOWrapper, mmap]\"; expected\u001b[0m\u001b[0;34m\u001b[0m\u001b[0;34m\u001b[0m\u001b[0;34m\u001b[0m\u001b[0m\n",
      "\u001b[0;31mOSError\u001b[0m: [Errno 28] No space left on device"
     ]
    }
   ],
   "source": [
    "# get source data\n",
    "#x_lfps = df_lfps[f\"movavg_w{ma_window_size}_o{ma_shift}_{origin}_c{clip_size}\"]\n",
    "#x_lfps = df_lfps_clpd[f\"{origin}_c{clip_size}\"]\n",
    "x_lfps = df_lfps[f\"{origin}_c{clip_size}\"]\n",
    "#x_spikes = df_spikes[f\"movavg_w{ma_window_size}_o{ma_shift}_b{bin_size}_c{clip_size}\"]\n",
    "#x_spikes = df_spikes[f\"movavg_w{ma_window_size}_o{ma_shift}_b{bin_size}_c{clip_size}\"]\n",
    "x_spikes = df_spikes[f\"bin{bin_size}_extended\"]\n",
    "#x_spikes = df_spikes_ext[f\"bin{bin_size}_extended\"]\n",
    "\n",
    "save_name_lfps = f\"pat66_lfps{spike_type}_df_{origin}_c{clip_size}_b{bin_size}\"\n",
    "save_name_spikes = f\"pat66_spikes{spike_type}_df_b{bin_size}_c{clip_size}\"\n",
    "\n",
    "cv_folds = dp.create_cv_splits(\n",
    "    x_lfps, \n",
    "    x_spikes,\n",
    "    ma_window_size, \n",
    "    ma_shift,\n",
    "    origin,\n",
    "    clip_size,\n",
    "    spike_type,\n",
    "    number_frames_in_clip,\n",
    "    length_of_frame, \n",
    "    cv_folds=[2],\n",
    "    save_lfps=save_name_lfps, \n",
    "    save_spikes=save_name_spikes,\n",
    "    buffer_split=15\n",
    ")\n"
   ]
  },
  {
   "cell_type": "code",
   "execution_count": 34,
   "id": "1f24afc3-cbc6-4fa0-900e-9bd27dbeb530",
   "metadata": {},
   "outputs": [
    {
     "data": {
      "text/plain": [
       "(2587468, 10)"
      ]
     },
     "execution_count": 34,
     "metadata": {},
     "output_type": "execute_result"
    }
   ],
   "source": [
    "cv_folds[0][0]['train_dt'][0].shape"
   ]
  },
  {
   "cell_type": "code",
   "execution_count": 35,
   "id": "041522e0-d993-4d56-96dd-6dfe0d4803ba",
   "metadata": {},
   "outputs": [
    {
     "data": {
      "text/plain": [
       "25874680"
      ]
     },
     "execution_count": 35,
     "metadata": {},
     "output_type": "execute_result"
    }
   ],
   "source": [
    "cv_folds[0][0]['train_dt'][0].size"
   ]
  },
  {
   "cell_type": "code",
   "execution_count": null,
   "id": "49383cc4-c559-435e-9739-55b7af8ec580",
   "metadata": {},
   "outputs": [],
   "source": []
  }
 ],
 "metadata": {
  "kernelspec": {
   "display_name": "Python 3 (ipykernel)",
   "language": "python",
   "name": "python3"
  },
  "language_info": {
   "codemirror_mode": {
    "name": "ipython",
    "version": 3
   },
   "file_extension": ".py",
   "mimetype": "text/x-python",
   "name": "python",
   "nbconvert_exporter": "python",
   "pygments_lexer": "ipython3",
   "version": "3.8.12"
  }
 },
 "nbformat": 4,
 "nbformat_minor": 5
}
