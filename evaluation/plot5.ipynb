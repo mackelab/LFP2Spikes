{
 "cells": [
  {
   "cell_type": "code",
   "execution_count": 1,
   "id": "a94c4153-c2b1-417b-b9fa-e35bdc42c45e",
   "metadata": {},
   "outputs": [
    {
     "name": "stdout",
     "output_type": "stream",
     "text": [
      "Epiphyte Tube version loaded.\n",
      "Connecting fkaltenberger@134.2.168.111:3306\n"
     ]
    }
   ],
   "source": [
    "import numpy as np\n",
    "import pandas as pd\n",
    "import matplotlib.pyplot as plt\n",
    "import seaborn as sns\n",
    "\n",
    "import sys\n",
    "sys.path.append('/home/rachel/Documents/lfp2spikes/modularized_code') \n",
    "from evalutation.plotting.plotting import PLOTTER\n",
    "from data_prep.data_preparation import DATA_PREP\n",
    "from data_loader.lfp_loader import LFP_LOADER"
   ]
  },
  {
   "cell_type": "code",
   "execution_count": 2,
   "id": "419889c2-27b0-4434-98f5-7bc98b3cd1ff",
   "metadata": {},
   "outputs": [
    {
     "data": {
      "text/plain": [
       "<Figure size 774x270 with 0 Axes>"
      ]
     },
     "metadata": {},
     "output_type": "display_data"
    }
   ],
   "source": [
    "pltr = PLOTTER()"
   ]
  },
  {
   "cell_type": "code",
   "execution_count": 3,
   "id": "9dfe618e-c864-43bd-8fd3-606070bbd9f4",
   "metadata": {},
   "outputs": [],
   "source": [
    "b = 1\n",
    "c = (10,1)\n",
    "splits = [1,2,3,4,5]\n",
    "\n",
    "#path = f\"../experiments/grid_search_alpha_L1wt/stats/gs_s{splits}_channels_{csc}_SUA_c{c}_b{b}/final_runs/\"\n",
    "#path_sklearn = \"../experiments/grid_search_alpha_L1wt/stats/gs_s[1, 2]_channels_5-40_SUA_c(10, 1)_b1/2022_Jul_25-14_18_11/\"\n",
    "alphas = [0.0, 0.0001, 0.0002, 0.0003, 0.0004, 0.0005, 0.0006, 0.0007, 0.0008, 0.0009, 0.001, 0.01, 0.1, 1.0]\n",
    "\n",
    "#channels = [5, 5, 5, 6, 9, 10, 11, 12, 13, 13, 13, 14, 14, 14, 14, 16, 16, 36, 36, 40]\n",
    "csc = [5, 5, 5, 6, 9, 10, 11, 12, 13, 13, 13, 16, 16, 36, 36, 40, 57, 57, 57, 58, 58, 58, 59, 60, 61, 61, 61, 63, 63, 64, 79, 79, 79, 80, 80, 80]\n",
    "#units = [8, 9, 10, 12, 17, 23, 26, 29, 31, 32, 33, 38, 39, 40, 41, 44, 45, 69, 70, 83]\n",
    "units = [8, 9, 10, 12, 17, 23, 26, 29, 31, 32, 33, 44, 45, 69, 70, 83, 96, 97, 98, 101, 102, 103, 107, 112, 116, 117, 118, 125, 126, 129, 142, 143, 144, 150, 151, 152]\n",
    "n_channels = len(csc)\n",
    "n_splits = len(splits)\n",
    "n_units = len(units)"
   ]
  },
  {
   "cell_type": "code",
   "execution_count": 4,
   "id": "58d2bd72-4ba7-4d5c-a806-48b20a8c88b1",
   "metadata": {},
   "outputs": [
    {
     "data": {
      "text/html": [
       "<div>\n",
       "<style scoped>\n",
       "    .dataframe tbody tr th:only-of-type {\n",
       "        vertical-align: middle;\n",
       "    }\n",
       "\n",
       "    .dataframe tbody tr th {\n",
       "        vertical-align: top;\n",
       "    }\n",
       "\n",
       "    .dataframe thead th {\n",
       "        text-align: right;\n",
       "    }\n",
       "</style>\n",
       "<table border=\"1\" class=\"dataframe\">\n",
       "  <thead>\n",
       "    <tr style=\"text-align: right;\">\n",
       "      <th></th>\n",
       "      <th>losses [NLL]</th>\n",
       "      <th>validation costs\\nper unit [NLL]</th>\n",
       "      <th>splits</th>\n",
       "      <th>unit</th>\n",
       "      <th>alpha</th>\n",
       "      <th>regularization</th>\n",
       "    </tr>\n",
       "  </thead>\n",
       "  <tbody>\n",
       "    <tr>\n",
       "      <th>0</th>\n",
       "      <td>0.020312</td>\n",
       "      <td>0.020915</td>\n",
       "      <td>1</td>\n",
       "      <td>8</td>\n",
       "      <td>0.0</td>\n",
       "      <td>L1</td>\n",
       "    </tr>\n",
       "    <tr>\n",
       "      <th>1</th>\n",
       "      <td>0.007911</td>\n",
       "      <td>0.009677</td>\n",
       "      <td>1</td>\n",
       "      <td>9</td>\n",
       "      <td>0.0</td>\n",
       "      <td>L1</td>\n",
       "    </tr>\n",
       "    <tr>\n",
       "      <th>2</th>\n",
       "      <td>0.001621</td>\n",
       "      <td>0.002980</td>\n",
       "      <td>1</td>\n",
       "      <td>10</td>\n",
       "      <td>0.0</td>\n",
       "      <td>L1</td>\n",
       "    </tr>\n",
       "    <tr>\n",
       "      <th>3</th>\n",
       "      <td>0.002373</td>\n",
       "      <td>0.002496</td>\n",
       "      <td>1</td>\n",
       "      <td>12</td>\n",
       "      <td>0.0</td>\n",
       "      <td>L1</td>\n",
       "    </tr>\n",
       "    <tr>\n",
       "      <th>4</th>\n",
       "      <td>0.001565</td>\n",
       "      <td>0.001754</td>\n",
       "      <td>1</td>\n",
       "      <td>17</td>\n",
       "      <td>0.0</td>\n",
       "      <td>L1</td>\n",
       "    </tr>\n",
       "  </tbody>\n",
       "</table>\n",
       "</div>"
      ],
      "text/plain": [
       "   losses [NLL]  validation costs\\nper unit [NLL]  splits  unit  alpha  \\\n",
       "0      0.020312                          0.020915       1     8    0.0   \n",
       "1      0.007911                          0.009677       1     9    0.0   \n",
       "2      0.001621                          0.002980       1    10    0.0   \n",
       "3      0.002373                          0.002496       1    12    0.0   \n",
       "4      0.001565                          0.001754       1    17    0.0   \n",
       "\n",
       "  regularization  \n",
       "0             L1  \n",
       "1             L1  \n",
       "2             L1  \n",
       "3             L1  \n",
       "4             L1  "
      ]
     },
     "execution_count": 4,
     "metadata": {},
     "output_type": "execute_result"
    }
   ],
   "source": [
    "trials = []\n",
    "for a in alphas: \n",
    "    csc = \"5-40\"\n",
    "    path = f\"../experiments/grid_search_alpha_L1wt/stats/gs_s{splits}_channels_{csc}_SUA_c{c}_b{b}/final_runs/\"\n",
    "    L1_trial_df1 = pd.read_pickle(path+f\"CV_a{a}_L11.0.csv\")\n",
    "    L2_trial_df1 = pd.read_pickle(path+f\"CV_a{a}_L10.0.csv\")\n",
    "    \n",
    "    csc = \"57-80\"\n",
    "    path = f\"../experiments/grid_search_alpha_L1wt/stats/gs_s{splits}_channels_{csc}_SUA_c{c}_b{b}/final_runs/\"\n",
    "    L1_trial_df2 = pd.read_pickle(path+f\"CV_a{a}_L11.0.csv\")\n",
    "    L2_trial_df2 = pd.read_pickle(path+f\"CV_a{a}_L10.0.csv\")\n",
    "    \n",
    "    \n",
    "    L1_trial_df = pd.DataFrame({\n",
    "        \"costs\" : np.mean([L1_trial_df1.costs, L1_trial_df2.costs], axis=0),\n",
    "        \"theta\" : np.concatenate(\n",
    "            [np.array(L1_trial_df1.theta.values.tolist()), \n",
    "             np.array(L1_trial_df2.theta.values.tolist())\n",
    "            ], axis=1).tolist(),\n",
    "        \"losses\" : np.concatenate(\n",
    "            [np.array(L1_trial_df1.losses.values.tolist()), \n",
    "             np.array(L1_trial_df2.losses.values.tolist())\n",
    "            ], axis=1).tolist(),\n",
    "        \"preds\" : np.concatenate(\n",
    "            [np.array(L1_trial_df1.preds.values.tolist()), \n",
    "             np.array(L1_trial_df2.preds.values.tolist())\n",
    "            ], axis=1).tolist()\n",
    "    })\n",
    "    \n",
    "    \n",
    "    L2_trial_df = pd.DataFrame({\n",
    "        \"costs\" : np.mean([L2_trial_df1.costs, L2_trial_df2.costs], axis=0),\n",
    "        \"theta\" : np.concatenate(\n",
    "            [np.array(L2_trial_df1.theta.values.tolist()), \n",
    "             np.array(L2_trial_df2.theta.values.tolist())\n",
    "            ], axis=1).tolist(),\n",
    "        \"losses\" : np.concatenate(\n",
    "            [np.array(L2_trial_df1.losses.values.tolist()), \n",
    "             np.array(L2_trial_df2.losses.values.tolist())\n",
    "            ], axis=1).tolist(),\n",
    "        \"preds\" : np.concatenate(\n",
    "            [np.array(L2_trial_df1.preds.values.tolist()), \n",
    "             np.array(L2_trial_df2.preds.values.tolist())\n",
    "            ], axis=1).tolist()\n",
    "    })\n",
    "    \n",
    "    \n",
    "    L1_trial_exp_df = pd.DataFrame({\n",
    "        \"losses [NLL]\" : np.array(L1_trial_df[\"losses\"].values.tolist()).flatten(), \n",
    "        \"validation costs\\nper unit [NLL]\" : np.array(L1_trial_df[\"preds\"].values.tolist()).flatten(), \n",
    "        \"splits\" : np.repeat(np.array(splits), n_channels),\n",
    "        \"unit\" : np.array(units * n_splits),\n",
    "        \"alpha\" : a, \n",
    "        \"regularization\" : \"L1\"\n",
    "    })\n",
    "    \n",
    "    L2_trial_exp_df = pd.DataFrame({\n",
    "        \"losses [NLL]\" : np.array(L2_trial_df[\"losses\"].values.tolist()).flatten(), \n",
    "        \"validation costs\\nper unit [NLL]\" : np.array(L2_trial_df[\"preds\"].values.tolist()).flatten(), \n",
    "        \"splits\" : np.repeat(np.array(splits), n_channels),\n",
    "        \"unit\" : np.array(units * n_splits),\n",
    "        \"alpha\" : a, \n",
    "        \"regularization\" : \"L2\"\n",
    "    })\n",
    "    \n",
    "    trial_exp_df = pd.concat([L1_trial_exp_df, L2_trial_exp_df], ignore_index=True)\n",
    "    \n",
    "    trials.append(trial_exp_df)\n",
    "\n",
    "exp_df = pd.concat(trials, ignore_index=True)\n",
    "exp_df.head()"
   ]
  },
  {
   "cell_type": "code",
   "execution_count": 65,
   "id": "dcfe9b3f-54ee-47b1-b5d7-7482c3454f5a",
   "metadata": {},
   "outputs": [
    {
     "data": {
      "image/png": "[encoded data removed]",
      "text/plain": [
       "<Figure size 288x144 with 1 Axes>"
      ]
     },
     "metadata": {},
     "output_type": "display_data"
    }
   ],
   "source": [
    "fig3, ax = pltr.plot_reg_losses_bp(exp_df)\n",
    "\n",
    "#print(ax.get_xticklabels())\n",
    "xticks = ax.get_xticks()\n",
    "#xticklabels = [f'$10^{{{np.log10(i)}}}$' if i!=0.0 else '0' for i in alphas]\n",
    "#xticklabels = [xticklabels[0]] + [xticklabels[i] if np.log10(alphas)[i] % 1 == 0 else '' for i in range(1, len(alphas))]\n",
    "#xticklabels = [f'$10^{{{int(i)}}}$' if i!=-10.0 else '0.0' for i in xticks]\n",
    "xticklabels = ['0.0', '', '$2\\cdot10^{-4}$', '', '$4\\cdot10^{-4}$', '', '$6\\cdot10^{-4}$', '', '$8\\cdot 10^{-4}$', '', '$10^{-3}$', '$10^{-2}$', '$10^{-1}$', '$10^{0}$']\n",
    "ax.set_xticks(xticks)\n",
    "ax.set_xticklabels(xticklabels)\n",
    "\n",
    "\n",
    "plt.semilogy()\n",
    "#plt.semilogx()\n",
    "\n",
    "plt.subplots_adjust(\n",
    "    left=0.17, bottom=0.2, right=0.99, top=0.99\n",
    ")\n",
    "fig3.savefig('plots/plot5.png')\n",
    "fig3.savefig('plots/plot5.pdf')"
   ]
  },
  {
   "cell_type": "code",
   "execution_count": 56,
   "id": "f85c327c-7806-4329-a419-61e7fc13e1f2",
   "metadata": {},
   "outputs": [
    {
     "name": "stdout",
     "output_type": "stream",
     "text": [
      "[Text(0, 0, '0.0') Text(1, 0, '0.0001') Text(2, 0, '0.0002')\n",
      " Text(3, 0, '0.0003') Text(4, 0, '0.0004') Text(5, 0, '0.0005')\n",
      " Text(6, 0, '0.0006') Text(7, 0, '0.0007') Text(8, 0, '0.0008')\n",
      " Text(9, 0, '0.0009') Text(10, 0, '0.001') Text(11, 0, '0.01')\n",
      " Text(12, 0, '0.1') Text(13, 0, '1.0')]\n",
      "[ 0  1  2  3  4  5  6  7  8  9 10 11 12 13]\n",
      "['0.0', '-2.5e-05$10^{-4}$', '', '', '', '', '', '', '', '', '-0.0003333333333333333$10^{-3}$', '-0.005$10^{-2}$', '-0.1$10^{-1}$', 'inf$10^{0}$']\n"
     ]
    },
    {
     "name": "stderr",
     "output_type": "stream",
     "text": [
      "/tmp/ipykernel_56365/3022207975.py:5: RuntimeWarning: divide by zero encountered in log10\n",
      "  xticklabels = [xticklabels[0]] + [f\"{alphas[i]/np.floor(np.log10(alphas[i]))}{xticklabels[i]}\" if np.log10(alphas)[i] % 1 == 0 else '' for i in range(1, len(alphas))]\n",
      "/tmp/ipykernel_56365/3022207975.py:5: RuntimeWarning: divide by zero encountered in double_scalars\n",
      "  xticklabels = [xticklabels[0]] + [f\"{alphas[i]/np.floor(np.log10(alphas[i]))}{xticklabels[i]}\" if np.log10(alphas)[i] % 1 == 0 else '' for i in range(1, len(alphas))]\n"
     ]
    }
   ],
   "source": [
    "pres = [0, 1, 2, 3, 4, 5, 6, 7, 8, 9\n",
    "print(np.array(ax.get_xticklabels()))\n",
    "xticks = ax.get_xticks()\n",
    "print(xticks)\n",
    "xticklabels = [f'$10^{{{int(np.floor(np.log10(i)))}}}$' if i!=0.0 else '0.0' for i in alphas]\n",
    "xticklabels = [xticklabels[0]] + [f\"{pres[i]}$\\cdot${xticklabels[i]}\" if np.log10(alphas)[i] % 1 == 0 else '' for i in range(1, len(alphas))]\n",
    "print(xticklabels)"
   ]
  },
  {
   "cell_type": "code",
   "execution_count": 34,
   "id": "4d373320-316b-42b0-92e4-14a139284644",
   "metadata": {},
   "outputs": [
    {
     "name": "stderr",
     "output_type": "stream",
     "text": [
      "/tmp/ipykernel_56365/3313266315.py:1: RuntimeWarning: divide by zero encountered in log10\n",
      "  np.log10(alphas)[3] % 1\n"
     ]
    },
    {
     "data": {
      "text/plain": [
       "0.4771212547196626"
      ]
     },
     "execution_count": 34,
     "metadata": {},
     "output_type": "execute_result"
    }
   ],
   "source": [
    "['0.0', '$10^{-4}$', '', '', '$4\\cdot10^{-4}$', '', '6\\cdot$10^{-4}$', '', '$8\\cdot 10^{-4}$', '', '$10^{-3}$', '$10^{-2}$', '$10^{-1}$', '$10^{0}$']"
   ]
  },
  {
   "cell_type": "code",
   "execution_count": 32,
   "id": "9ad9a6b5-c95a-4c17-89dd-c35c0ad92615",
   "metadata": {},
   "outputs": [
    {
     "ename": "TypeError",
     "evalue": "only integer scalar arrays can be converted to a scalar index",
     "output_type": "error",
     "traceback": [
      "\u001b[0;31m---------------------------------------------------------------------------\u001b[0m",
      "\u001b[0;31mTypeError\u001b[0m                                 Traceback (most recent call last)",
      "\u001b[0;32m/tmp/ipykernel_56365/2621110957.py\u001b[0m in \u001b[0;36m<module>\u001b[0;34m\u001b[0m\n\u001b[0;32m----> 1\u001b[0;31m \u001b[0malphas\u001b[0m\u001b[0;34m[\u001b[0m\u001b[0mnp\u001b[0m\u001b[0;34m.\u001b[0m\u001b[0marray\u001b[0m\u001b[0;34m(\u001b[0m\u001b[0;34m[\u001b[0m\u001b[0;36m0\u001b[0m\u001b[0;34m,\u001b[0m\u001b[0;36m1\u001b[0m\u001b[0;34m,\u001b[0m\u001b[0;36m10\u001b[0m\u001b[0;34m,\u001b[0m\u001b[0;36m11\u001b[0m\u001b[0;34m,\u001b[0m\u001b[0;36m12\u001b[0m\u001b[0;34m,\u001b[0m\u001b[0;36m13\u001b[0m\u001b[0;34m]\u001b[0m\u001b[0;34m,\u001b[0m \u001b[0mdtype\u001b[0m\u001b[0;34m=\u001b[0m\u001b[0;34m\"int\"\u001b[0m\u001b[0;34m)\u001b[0m\u001b[0;34m]\u001b[0m\u001b[0;34m\u001b[0m\u001b[0;34m\u001b[0m\u001b[0m\n\u001b[0m",
      "\u001b[0;31mTypeError\u001b[0m: only integer scalar arrays can be converted to a scalar index"
     ]
    }
   ],
   "source": []
  },
  {
   "cell_type": "code",
   "execution_count": null,
   "id": "5d44b99c-7979-4928-bdbe-cd89f9dbaad4",
   "metadata": {},
   "outputs": [],
   "source": []
  }
 ],
 "metadata": {
  "kernelspec": {
   "display_name": "Python 3 (ipykernel)",
   "language": "python",
   "name": "python3"
  },
  "language_info": {
   "codemirror_mode": {
    "name": "ipython",
    "version": 3
   },
   "file_extension": ".py",
   "mimetype": "text/x-python",
   "name": "python",
   "nbconvert_exporter": "python",
   "pygments_lexer": "ipython3",
   "version": "3.8.12"
  }
 },
 "nbformat": 4,
 "nbformat_minor": 5
}
