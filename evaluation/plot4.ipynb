{
 "cells": [
  {
   "cell_type": "code",
   "execution_count": 1,
   "id": "a94c4153-c2b1-417b-b9fa-e35bdc42c45e",
   "metadata": {},
   "outputs": [
    {
     "name": "stdout",
     "output_type": "stream",
     "text": [
      "Epiphyte Tube version loaded.\n",
      "Connecting fkaltenberger@134.2.168.111:3306\n"
     ]
    }
   ],
   "source": [
    "import numpy as np\n",
    "import pandas as pd\n",
    "import matplotlib.pyplot as plt\n",
    "import seaborn as sns\n",
    "\n",
    "import sys\n",
    "sys.path.append('/home/rachel/Documents/lfp2spikes/modularized_code') \n",
    "from evalutation.plotting.plotting import PLOTTER\n",
    "from data_prep.data_preparation import DATA_PREP\n",
    "from data_loader.lfp_loader import LFP_LOADER"
   ]
  },
  {
   "cell_type": "code",
   "execution_count": 2,
   "id": "419889c2-27b0-4434-98f5-7bc98b3cd1ff",
   "metadata": {},
   "outputs": [
    {
     "data": {
      "text/plain": [
       "<Figure size 774x270 with 0 Axes>"
      ]
     },
     "metadata": {},
     "output_type": "display_data"
    }
   ],
   "source": [
    "pltr = PLOTTER()"
   ]
  },
  {
   "cell_type": "code",
   "execution_count": 3,
   "id": "9dfe618e-c864-43bd-8fd3-606070bbd9f4",
   "metadata": {},
   "outputs": [],
   "source": [
    "b = 1\n",
    "c = (10,1)\n",
    "splits = [1,2,3,4,5]\n",
    "\n",
    "#path = f\"../experiments/grid_search_alpha_L1wt/stats/gs_s{splits}_channels_{csc}_SUA_c{c}_b{b}/final_runs/\"\n",
    "#path_sklearn = \"../experiments/grid_search_alpha_L1wt/stats/gs_s[1, 2]_channels_5-40_SUA_c(10, 1)_b1/2022_Jul_25-14_18_11/\"\n",
    "alphas = [0.0, 0.0001, 0.0002, 0.0003, 0.0004, 0.0005, 0.0006, 0.0007, 0.0008, 0.0009, 0.001, 0.01, 0.1, 1.0]\n",
    "w_L1 = [0.0, 0.1]\n",
    "\n",
    "#channels = [5, 5, 5, 6, 9, 10, 11, 12, 13, 13, 13, 14, 14, 14, 14, 16, 16, 36, 36, 40]\n",
    "csc = [5, 5, 5, 6, 9, 10, 11, 12, 13, 13, 13, 16, 16, 36, 36, 40]\n",
    "#channels = [57, 57, 57, 58, 58, 58, 59, 60, 61, 61, 61, 63, 63, 64, 79, 79, 79, 80, 80, 80]\n",
    "#units = [8, 9, 10, 12, 17, 23, 26, 29, 31, 32, 33, 38, 39, 40, 41, 44, 45, 69, 70, 83]\n",
    "units = [8, 9, 10, 12, 17, 23, 26, 29, 31, 32, 33, 44, 45, 69, 70, 83]\n",
    "#units = [96, 97, 98, 101, 102, 103, 107, 112, 116, 117, 118, 125, 126, 129, 142, 143, 144, 150, 151, 152]\n",
    "n_channels = len(csc)\n",
    "n_splits = len(splits)\n",
    "n_units = len(units)"
   ]
  },
  {
   "cell_type": "code",
   "execution_count": 36,
   "id": "58d2bd72-4ba7-4d5c-a806-48b20a8c88b1",
   "metadata": {},
   "outputs": [
    {
     "data": {
      "text/html": [
       "<div>\n",
       "<style scoped>\n",
       "    .dataframe tbody tr th:only-of-type {\n",
       "        vertical-align: middle;\n",
       "    }\n",
       "\n",
       "    .dataframe tbody tr th {\n",
       "        vertical-align: top;\n",
       "    }\n",
       "\n",
       "    .dataframe thead th {\n",
       "        text-align: right;\n",
       "    }\n",
       "</style>\n",
       "<table border=\"1\" class=\"dataframe\">\n",
       "  <thead>\n",
       "    <tr style=\"text-align: right;\">\n",
       "      <th></th>\n",
       "      <th>mean validation\\ncosts [NLL]</th>\n",
       "      <th>alpha</th>\n",
       "      <th>regularization</th>\n",
       "    </tr>\n",
       "  </thead>\n",
       "  <tbody>\n",
       "    <tr>\n",
       "      <th>0</th>\n",
       "      <td>1.072214e+10</td>\n",
       "      <td>-4.50000</td>\n",
       "      <td>L1</td>\n",
       "    </tr>\n",
       "    <tr>\n",
       "      <th>1</th>\n",
       "      <td>1.985795e+08</td>\n",
       "      <td>-4.50000</td>\n",
       "      <td>L2</td>\n",
       "    </tr>\n",
       "    <tr>\n",
       "      <th>2</th>\n",
       "      <td>2.974868e-01</td>\n",
       "      <td>-4.00000</td>\n",
       "      <td>L1</td>\n",
       "    </tr>\n",
       "    <tr>\n",
       "      <th>3</th>\n",
       "      <td>7.469172e+00</td>\n",
       "      <td>-4.00000</td>\n",
       "      <td>L2</td>\n",
       "    </tr>\n",
       "    <tr>\n",
       "      <th>4</th>\n",
       "      <td>8.803641e-03</td>\n",
       "      <td>-3.69897</td>\n",
       "      <td>L1</td>\n",
       "    </tr>\n",
       "  </tbody>\n",
       "</table>\n",
       "</div>"
      ],
      "text/plain": [
       "   mean validation\\ncosts [NLL]    alpha regularization\n",
       "0                  1.072214e+10 -4.50000             L1\n",
       "1                  1.985795e+08 -4.50000             L2\n",
       "2                  2.974868e-01 -4.00000             L1\n",
       "3                  7.469172e+00 -4.00000             L2\n",
       "4                  8.803641e-03 -3.69897             L1"
      ]
     },
     "execution_count": 36,
     "metadata": {},
     "output_type": "execute_result"
    }
   ],
   "source": [
    "trials = []\n",
    "for a in alphas: \n",
    "    csc = \"5-40\"\n",
    "    path = f\"../experiments/grid_search_alpha_L1wt/stats/gs_s{splits}_channels_{csc}_SUA_c{c}_b{b}/final_runs/\"\n",
    "    L1_trial_df1 = pd.read_pickle(path+f\"CV_a{a}_L11.0.csv\")\n",
    "    L2_trial_df1 = pd.read_pickle(path+f\"CV_a{a}_L10.0.csv\")\n",
    "    \n",
    "    csc = \"57-80\"\n",
    "    path = f\"../experiments/grid_search_alpha_L1wt/stats/gs_s{splits}_channels_{csc}_SUA_c{c}_b{b}/final_runs/\"\n",
    "    L1_trial_df2 = pd.read_pickle(path+f\"CV_a{a}_L11.0.csv\")\n",
    "    L2_trial_df2 = pd.read_pickle(path+f\"CV_a{a}_L10.0.csv\")\n",
    "    \n",
    "    \n",
    "    L1_trial_df = pd.DataFrame({\n",
    "        \"costs\" : np.mean([L1_trial_df1.costs, L1_trial_df2.costs], axis=0),\n",
    "        \"theta\" : np.concatenate(\n",
    "            [np.array(L1_trial_df1.theta.values.tolist()), \n",
    "             np.array(L1_trial_df2.theta.values.tolist())\n",
    "            ], axis=1).tolist(),\n",
    "        \"losses\" : np.concatenate(\n",
    "            [np.array(L1_trial_df1.losses.values.tolist()), \n",
    "             np.array(L1_trial_df2.losses.values.tolist())\n",
    "            ], axis=1).tolist(),\n",
    "        \"preds\" : np.concatenate(\n",
    "            [np.array(L1_trial_df1.preds.values.tolist()), \n",
    "             np.array(L1_trial_df2.preds.values.tolist())\n",
    "            ], axis=1).tolist()\n",
    "    })\n",
    "    \n",
    "    \n",
    "    L2_trial_df = pd.DataFrame({\n",
    "        \"costs\" : np.mean([L2_trial_df1.costs, L2_trial_df2.costs], axis=0),\n",
    "        \"theta\" : np.concatenate(\n",
    "            [np.array(L2_trial_df1.theta.values.tolist()), \n",
    "             np.array(L2_trial_df2.theta.values.tolist())\n",
    "            ], axis=1).tolist(),\n",
    "        \"losses\" : np.concatenate(\n",
    "            [np.array(L2_trial_df1.losses.values.tolist()), \n",
    "             np.array(L2_trial_df2.losses.values.tolist())\n",
    "            ], axis=1).tolist(),\n",
    "        \"preds\" : np.concatenate(\n",
    "            [np.array(L2_trial_df1.preds.values.tolist()), \n",
    "             np.array(L2_trial_df2.preds.values.tolist())\n",
    "            ], axis=1).tolist()\n",
    "    })\n",
    "    \n",
    "    \n",
    "    L1_trial_exp_df = pd.DataFrame({\n",
    "        \"mean validation\\ncosts [NLL]\" : np.array([L1_trial_df[\"costs\"][0]]), \n",
    "        \"alpha\" : np.log10(a) if a > 0 else -4.5, \n",
    "        \"regularization\" : \"L1\"\n",
    "    })\n",
    "    \n",
    "    L2_trial_exp_df = pd.DataFrame({\n",
    "        \"mean validation\\ncosts [NLL]\" : np.array([L2_trial_df[\"costs\"][0]]), \n",
    "        \"alpha\" : np.log10(a) if a > 0 else -4.5, \n",
    "        \"regularization\" : \"L2\"\n",
    "    })\n",
    "    \n",
    "    trial_exp_df = pd.concat([L1_trial_exp_df, L2_trial_exp_df], ignore_index=True)\n",
    "    \n",
    "    trials.append(trial_exp_df)\n",
    "\n",
    "exp_df = pd.concat(trials, ignore_index=True)\n",
    "exp_df.head()"
   ]
  },
  {
   "cell_type": "code",
   "execution_count": null,
   "id": "6fef4482-d2b3-46b8-9e7c-fddad7bb73fd",
   "metadata": {},
   "outputs": [
    {
     "name": "stdout",
     "output_type": "stream",
     "text": [
      "[0.0, 0.0001, 0.0002, 0.0003, 0.0004, 0.0005, 0.0006, 0.0007, 0.0008, 0.0009, 0.001, 0.01, 0.1, 1.0]\n",
      "[-10, -9.210340371976182, -8.517193191416238, -8.111728083308073, -7.824046010856292, -7.600902459542082, -7.418580902748128, -7.264430222920869, -7.1308988302963465, -7.013115794639964, -6.907755278982137, -4.605170185988091, -2.3025850929940455, 0.0]\n"
     ]
    }
   ],
   "source": [
    "print(alphas)\n",
    "print([np.log(a) if a > 0 else -10 for a in alphas])"
   ]
  },
  {
   "cell_type": "code",
   "execution_count": null,
   "id": "3c8bfe3d-4d39-44fb-975c-f4dc38a00855",
   "metadata": {},
   "outputs": [
    {
     "data": {
      "text/plain": [
       "0.00033546262790251185"
      ]
     },
     "execution_count": 34,
     "metadata": {},
     "output_type": "execute_result"
    }
   ],
   "source": [
    "np.exp(-8)"
   ]
  },
  {
   "cell_type": "code",
   "execution_count": 37,
   "id": "dcfe9b3f-54ee-47b1-b5d7-7482c3454f5a",
   "metadata": {},
   "outputs": [
    {
     "data": {
      "image/png": "[encoded data removed]",
      "text/plain": [
       "<Figure size 288x144 with 1 Axes>"
      ]
     },
     "metadata": {},
     "output_type": "display_data"
    }
   ],
   "source": [
    "fig3, ax = pltr.plot_cv_costs(exp_df)\n",
    "\n",
    "#print(ax.get_xticklabels())\n",
    "xticks = ax.get_xticks()\n",
    "xticklabels = [f'$10^{{{int(i)}}}$' if i!=-4.5 else '0.0' for i in xticks]\n",
    "ax.set_xticks(xticks)\n",
    "ax.set_xticklabels(xticklabels)\n",
    "\n",
    "\n",
    "plt.semilogy()\n",
    "#plt.semilogx()\n",
    "\n",
    "plt.subplots_adjust(\n",
    "    left=0.16, bottom=0.2, right=0.99, top=0.99\n",
    ")\n",
    "fig3.savefig('plots/plot4.png')\n",
    "fig3.savefig('plots/plot4.pdf')"
   ]
  },
  {
   "cell_type": "code",
   "execution_count": null,
   "id": "d550bd52-2598-4654-98e9-b5d554bb8c40",
   "metadata": {},
   "outputs": [
    {
     "ename": "FileNotFoundError",
     "evalue": "[Errno 2] No such file or directory: '../experiments/grid_search_alpha_L1wt/stats/gs_s[1, 2, 3, 4, 5]_channels_57-80_SUA_c(10, 1)_b1/final_runs/CV_a0.0.csv'",
     "output_type": "error",
     "traceback": [
      "\u001b[0;31m---------------------------------------------------------------------------\u001b[0m",
      "\u001b[0;31mFileNotFoundError\u001b[0m                         Traceback (most recent call last)",
      "\u001b[0;32m/tmp/ipykernel_4159875/1715589777.py\u001b[0m in \u001b[0;36m<module>\u001b[0;34m\u001b[0m\n\u001b[1;32m      1\u001b[0m \u001b[0mtrials\u001b[0m \u001b[0;34m=\u001b[0m \u001b[0;34m[\u001b[0m\u001b[0;34m]\u001b[0m\u001b[0;34m\u001b[0m\u001b[0;34m\u001b[0m\u001b[0m\n\u001b[1;32m      2\u001b[0m \u001b[0;32mfor\u001b[0m \u001b[0ma\u001b[0m \u001b[0;32min\u001b[0m \u001b[0malphas\u001b[0m\u001b[0;34m:\u001b[0m\u001b[0;34m\u001b[0m\u001b[0;34m\u001b[0m\u001b[0m\n\u001b[0;32m----> 3\u001b[0;31m     \u001b[0mtrial_df\u001b[0m \u001b[0;34m=\u001b[0m \u001b[0mpd\u001b[0m\u001b[0;34m.\u001b[0m\u001b[0mread_pickle\u001b[0m\u001b[0;34m(\u001b[0m\u001b[0mpath\u001b[0m\u001b[0;34m+\u001b[0m\u001b[0;34mf\"CV_a{a}.csv\"\u001b[0m\u001b[0;34m)\u001b[0m\u001b[0;34m\u001b[0m\u001b[0;34m\u001b[0m\u001b[0m\n\u001b[0m\u001b[1;32m      4\u001b[0m     \u001b[0mtrial_df\u001b[0m\u001b[0;34m[\u001b[0m\u001b[0;34m\"alpha\"\u001b[0m\u001b[0;34m]\u001b[0m \u001b[0;34m=\u001b[0m \u001b[0ma\u001b[0m\u001b[0;34m\u001b[0m\u001b[0;34m\u001b[0m\u001b[0m\n\u001b[1;32m      5\u001b[0m     \u001b[0mtrial_df\u001b[0m\u001b[0;34m[\u001b[0m\u001b[0;34m\"split\"\u001b[0m\u001b[0;34m]\u001b[0m \u001b[0;34m=\u001b[0m \u001b[0mnp\u001b[0m\u001b[0;34m.\u001b[0m\u001b[0marange\u001b[0m\u001b[0;34m(\u001b[0m\u001b[0;36m0\u001b[0m\u001b[0;34m,\u001b[0m\u001b[0mlen\u001b[0m\u001b[0;34m(\u001b[0m\u001b[0mtrial_df\u001b[0m\u001b[0;34m)\u001b[0m\u001b[0;34m,\u001b[0m \u001b[0;36m1\u001b[0m\u001b[0;34m)\u001b[0m\u001b[0;34m\u001b[0m\u001b[0;34m\u001b[0m\u001b[0m\n",
      "\u001b[0;32m~/Documents/virtualenvs/lfp2spikes/lib/python3.8/site-packages/pandas/io/pickle.py\u001b[0m in \u001b[0;36mread_pickle\u001b[0;34m(filepath_or_buffer, compression, storage_options)\u001b[0m\n\u001b[1;32m    194\u001b[0m     \"\"\"\n\u001b[1;32m    195\u001b[0m     \u001b[0mexcs_to_catch\u001b[0m \u001b[0;34m=\u001b[0m \u001b[0;34m(\u001b[0m\u001b[0mAttributeError\u001b[0m\u001b[0;34m,\u001b[0m \u001b[0mImportError\u001b[0m\u001b[0;34m,\u001b[0m \u001b[0mModuleNotFoundError\u001b[0m\u001b[0;34m,\u001b[0m \u001b[0mTypeError\u001b[0m\u001b[0;34m)\u001b[0m\u001b[0;34m\u001b[0m\u001b[0;34m\u001b[0m\u001b[0m\n\u001b[0;32m--> 196\u001b[0;31m     with get_handle(\n\u001b[0m\u001b[1;32m    197\u001b[0m         \u001b[0mfilepath_or_buffer\u001b[0m\u001b[0;34m,\u001b[0m\u001b[0;34m\u001b[0m\u001b[0;34m\u001b[0m\u001b[0m\n\u001b[1;32m    198\u001b[0m         \u001b[0;34m\"rb\"\u001b[0m\u001b[0;34m,\u001b[0m\u001b[0;34m\u001b[0m\u001b[0;34m\u001b[0m\u001b[0m\n",
      "\u001b[0;32m~/Documents/virtualenvs/lfp2spikes/lib/python3.8/site-packages/pandas/io/common.py\u001b[0m in \u001b[0;36mget_handle\u001b[0;34m(path_or_buf, mode, encoding, compression, memory_map, is_text, errors, storage_options)\u001b[0m\n\u001b[1;32m    708\u001b[0m         \u001b[0;32melse\u001b[0m\u001b[0;34m:\u001b[0m\u001b[0;34m\u001b[0m\u001b[0;34m\u001b[0m\u001b[0m\n\u001b[1;32m    709\u001b[0m             \u001b[0;31m# Binary mode\u001b[0m\u001b[0;34m\u001b[0m\u001b[0;34m\u001b[0m\u001b[0;34m\u001b[0m\u001b[0m\n\u001b[0;32m--> 710\u001b[0;31m             \u001b[0mhandle\u001b[0m \u001b[0;34m=\u001b[0m \u001b[0mopen\u001b[0m\u001b[0;34m(\u001b[0m\u001b[0mhandle\u001b[0m\u001b[0;34m,\u001b[0m \u001b[0mioargs\u001b[0m\u001b[0;34m.\u001b[0m\u001b[0mmode\u001b[0m\u001b[0;34m)\u001b[0m\u001b[0;34m\u001b[0m\u001b[0;34m\u001b[0m\u001b[0m\n\u001b[0m\u001b[1;32m    711\u001b[0m         \u001b[0mhandles\u001b[0m\u001b[0;34m.\u001b[0m\u001b[0mappend\u001b[0m\u001b[0;34m(\u001b[0m\u001b[0mhandle\u001b[0m\u001b[0;34m)\u001b[0m\u001b[0;34m\u001b[0m\u001b[0;34m\u001b[0m\u001b[0m\n\u001b[1;32m    712\u001b[0m \u001b[0;34m\u001b[0m\u001b[0m\n",
      "\u001b[0;31mFileNotFoundError\u001b[0m: [Errno 2] No such file or directory: '../experiments/grid_search_alpha_L1wt/stats/gs_s[1, 2, 3, 4, 5]_channels_57-80_SUA_c(10, 1)_b1/final_runs/CV_a0.0.csv'"
     ]
    }
   ],
   "source": [
    "trials = []\n",
    "for a in alphas: \n",
    "    trial_df = pd.read_pickle(path+f\"CV_a{a}.csv\")\n",
    "    trial_df[\"alpha\"] = a\n",
    "    trial_df[\"split\"] = np.arange(0,len(trial_df), 1)\n",
    "    trials.append(trial_df)\n",
    "\n",
    "exp_df = pd.concat(trials, ignore_index=True)\n",
    "exp_df.head()"
   ]
  },
  {
   "cell_type": "code",
   "execution_count": null,
   "id": "2e43e89f-442b-492e-a250-45b00e950fdd",
   "metadata": {},
   "outputs": [],
   "source": [
    "exp_df[\"losses\"] = exp_df[\"losses\"].apply(lambda x : np.array(x))\n",
    "exp_df[\"final loss\"] = exp_df[\"losses\"].apply(lambda x : x[-1])\n",
    "exp_df[\"theta\"] = exp_df[\"theta\"].apply(lambda x : np.array(x))\n",
    "exp_df[\"preds\"] = exp_df[\"preds\"].apply(lambda x : np.array(x))\n",
    "exp_df.head()"
   ]
  },
  {
   "cell_type": "code",
   "execution_count": null,
   "id": "3ecd1e92-7e29-4364-adf8-fcc5a6ac43f9",
   "metadata": {},
   "outputs": [],
   "source": [
    "exp_df[\"theta\"][0]"
   ]
  },
  {
   "cell_type": "code",
   "execution_count": null,
   "id": "ebe37f0e-2e95-4ee3-805a-49f02227e37d",
   "metadata": {},
   "outputs": [],
   "source": [
    "sns.lineplot(x=\"alpha\", y=\"final loss\", data=exp_df, hue=\"unit\")"
   ]
  },
  {
   "cell_type": "code",
   "execution_count": null,
   "id": "f85c327c-7806-4329-a419-61e7fc13e1f2",
   "metadata": {},
   "outputs": [],
   "source": []
  }
 ],
 "metadata": {
  "kernelspec": {
   "display_name": "Python 3 (ipykernel)",
   "language": "python",
   "name": "python3"
  },
  "language_info": {
   "codemirror_mode": {
    "name": "ipython",
    "version": 3
   },
   "file_extension": ".py",
   "mimetype": "text/x-python",
   "name": "python",
   "nbconvert_exporter": "python",
   "pygments_lexer": "ipython3",
   "version": "3.8.12"
  }
 },
 "nbformat": 4,
 "nbformat_minor": 5
}
