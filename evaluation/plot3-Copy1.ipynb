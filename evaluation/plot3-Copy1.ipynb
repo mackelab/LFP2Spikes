{
 "cells": [
  {
   "cell_type": "code",
   "execution_count": 1,
   "id": "a94c4153-c2b1-417b-b9fa-e35bdc42c45e",
   "metadata": {},
   "outputs": [
    {
     "name": "stdout",
     "output_type": "stream",
     "text": [
      "Epiphyte Tube version loaded.\n",
      "Connecting fkaltenberger@134.2.168.111:3306\n"
     ]
    }
   ],
   "source": [
    "import numpy as np\n",
    "import pandas as pd\n",
    "import matplotlib.pyplot as plt\n",
    "import seaborn as sns\n",
    "\n",
    "import sys\n",
    "sys.path.append('/home/rachel/Documents/lfp2spikes/modularized_code') \n",
    "from evalutation.plotting.plotting import PLOTTER\n",
    "from data_prep.data_preparation import DATA_PREP\n",
    "from data_loader.lfp_loader import LFP_LOADER"
   ]
  },
  {
   "cell_type": "code",
   "execution_count": 2,
   "id": "419889c2-27b0-4434-98f5-7bc98b3cd1ff",
   "metadata": {},
   "outputs": [
    {
     "data": {
      "text/plain": [
       "<Figure size 774x270 with 0 Axes>"
      ]
     },
     "metadata": {},
     "output_type": "display_data"
    }
   ],
   "source": [
    "pltr = PLOTTER()"
   ]
  },
  {
   "cell_type": "code",
   "execution_count": 3,
   "id": "9dfe618e-c864-43bd-8fd3-606070bbd9f4",
   "metadata": {},
   "outputs": [],
   "source": [
    "path = \"../experiments/grid_search_alpha_L1wt/gs_s[1, 2, 3, 4, 5]_channels_1-5_MUA_c(30, 2)_b20/2022_Jul_20-09_36_36/\"\n",
    "alphas = np.arange(0.0, 0.3, 0.01)\n",
    "splits = [1,2,3,4,5]\n",
    "channels = [1,2,3,4,5]\n",
    "n_channels = len(channels)\n",
    "n_splits = len(splits)"
   ]
  },
  {
   "cell_type": "code",
   "execution_count": 4,
   "id": "98b46ad3-821c-4aaa-8ab9-ad9720d30ac0",
   "metadata": {},
   "outputs": [
    {
     "data": {
      "text/plain": [
       "[1, 2, 3, 4, 5, 1, 2, 3, 4, 5]"
      ]
     },
     "execution_count": 4,
     "metadata": {},
     "output_type": "execute_result"
    }
   ],
   "source": [
    "#np.array(trial_df[\"losses\"].values.tolist()).flatten()\n",
    "#np.repeat(np.array(splits), n_channels)\n",
    "channels * 2"
   ]
  },
  {
   "cell_type": "code",
   "execution_count": 5,
   "id": "58d2bd72-4ba7-4d5c-a806-48b20a8c88b1",
   "metadata": {},
   "outputs": [
    {
     "data": {
      "text/html": [
       "<div>\n",
       "<style scoped>\n",
       "    .dataframe tbody tr th:only-of-type {\n",
       "        vertical-align: middle;\n",
       "    }\n",
       "\n",
       "    .dataframe tbody tr th {\n",
       "        vertical-align: top;\n",
       "    }\n",
       "\n",
       "    .dataframe thead th {\n",
       "        text-align: right;\n",
       "    }\n",
       "</style>\n",
       "<table border=\"1\" class=\"dataframe\">\n",
       "  <thead>\n",
       "    <tr style=\"text-align: right;\">\n",
       "      <th></th>\n",
       "      <th>losses</th>\n",
       "      <th>splits</th>\n",
       "      <th>unit</th>\n",
       "      <th>alpha</th>\n",
       "    </tr>\n",
       "  </thead>\n",
       "  <tbody>\n",
       "    <tr>\n",
       "      <th>0</th>\n",
       "      <td>280995.327264</td>\n",
       "      <td>1</td>\n",
       "      <td>1</td>\n",
       "      <td>0.0</td>\n",
       "    </tr>\n",
       "    <tr>\n",
       "      <th>1</th>\n",
       "      <td>133430.917165</td>\n",
       "      <td>1</td>\n",
       "      <td>2</td>\n",
       "      <td>0.0</td>\n",
       "    </tr>\n",
       "    <tr>\n",
       "      <th>2</th>\n",
       "      <td>41595.731623</td>\n",
       "      <td>1</td>\n",
       "      <td>3</td>\n",
       "      <td>0.0</td>\n",
       "    </tr>\n",
       "    <tr>\n",
       "      <th>3</th>\n",
       "      <td>31397.602827</td>\n",
       "      <td>1</td>\n",
       "      <td>4</td>\n",
       "      <td>0.0</td>\n",
       "    </tr>\n",
       "    <tr>\n",
       "      <th>4</th>\n",
       "      <td>26567.793264</td>\n",
       "      <td>1</td>\n",
       "      <td>5</td>\n",
       "      <td>0.0</td>\n",
       "    </tr>\n",
       "  </tbody>\n",
       "</table>\n",
       "</div>"
      ],
      "text/plain": [
       "          losses  splits  unit  alpha\n",
       "0  280995.327264       1     1    0.0\n",
       "1  133430.917165       1     2    0.0\n",
       "2   41595.731623       1     3    0.0\n",
       "3   31397.602827       1     4    0.0\n",
       "4   26567.793264       1     5    0.0"
      ]
     },
     "execution_count": 5,
     "metadata": {},
     "output_type": "execute_result"
    }
   ],
   "source": [
    "trials = []\n",
    "for a in alphas: \n",
    "    trial_df = pd.read_pickle(path+f\"CV_a{a}.csv\")\n",
    "    #trial_df[\"alpha\"] = a\n",
    "    #trial_df[\"split\"] = np.arange(0,len(trial_df), 1)\n",
    "    trial_exp_df = pd.DataFrame({\n",
    "        \"losses\" : np.array(trial_df[\"losses\"].values.tolist()).flatten(), \n",
    "        \"splits\" : np.repeat(np.array(splits), n_channels),\n",
    "        \"unit\" : np.array(channels * n_splits),\n",
    "        \"alpha\" : a\n",
    "    })\n",
    "    trials.append(trial_exp_df)\n",
    "\n",
    "exp_df = pd.concat(trials, ignore_index=True)\n",
    "exp_df.head()"
   ]
  },
  {
   "cell_type": "code",
   "execution_count": 6,
   "id": "dcfe9b3f-54ee-47b1-b5d7-7482c3454f5a",
   "metadata": {},
   "outputs": [
    {
     "data": {
      "image/png": "[encoded data removed]",
      "text/plain": [
       "<Figure size 288x144 with 1 Axes>"
      ]
     },
     "metadata": {},
     "output_type": "display_data"
    }
   ],
   "source": [
    "fig3 = pltr.plot_reg_loss(exp_df)\n",
    "\n",
    "plt.subplots_adjust(\n",
    "    left=0.18, right=0.83, top=0.97, bottom=0.2\n",
    ")\n",
    "fig3.savefig('plots/plot3.png')\n",
    "fig3.savefig('plots/plot3.pdf')"
   ]
  },
  {
   "cell_type": "code",
   "execution_count": null,
   "id": "0cdf7bd5-24bf-4652-912d-556f01dccece",
   "metadata": {},
   "outputs": [],
   "source": []
  },
  {
   "cell_type": "code",
   "execution_count": 70,
   "id": "d550bd52-2598-4654-98e9-b5d554bb8c40",
   "metadata": {},
   "outputs": [
    {
     "data": {
      "text/html": [
       "<div>\n",
       "<style scoped>\n",
       "    .dataframe tbody tr th:only-of-type {\n",
       "        vertical-align: middle;\n",
       "    }\n",
       "\n",
       "    .dataframe tbody tr th {\n",
       "        vertical-align: top;\n",
       "    }\n",
       "\n",
       "    .dataframe thead th {\n",
       "        text-align: right;\n",
       "    }\n",
       "</style>\n",
       "<table border=\"1\" class=\"dataframe\">\n",
       "  <thead>\n",
       "    <tr style=\"text-align: right;\">\n",
       "      <th></th>\n",
       "      <th>costs</th>\n",
       "      <th>theta</th>\n",
       "      <th>losses</th>\n",
       "      <th>preds</th>\n",
       "      <th>alpha</th>\n",
       "      <th>unit</th>\n",
       "    </tr>\n",
       "  </thead>\n",
       "  <tbody>\n",
       "    <tr>\n",
       "      <th>0</th>\n",
       "      <td>19014.202643</td>\n",
       "      <td>[[-2.823703492206324, -0.11091406751802795, -0...</td>\n",
       "      <td>[280995.3272639291, 133430.9171646988, 41595.7...</td>\n",
       "      <td>[56612.609538446646, 20125.433002724592, 7589....</td>\n",
       "      <td>0.000</td>\n",
       "      <td>0</td>\n",
       "    </tr>\n",
       "    <tr>\n",
       "      <th>1</th>\n",
       "      <td>19014.202643</td>\n",
       "      <td>[[-2.772587619543808, -0.1449638732914278, -0....</td>\n",
       "      <td>[291638.54179049237, 125511.22064349893, 42505...</td>\n",
       "      <td>[54218.44465074336, 25964.232027954182, 5764.3...</td>\n",
       "      <td>0.000</td>\n",
       "      <td>1</td>\n",
       "    </tr>\n",
       "    <tr>\n",
       "      <th>2</th>\n",
       "      <td>19013.090512</td>\n",
       "      <td>[[-2.8234750743073804, -0.09003199309627845, -...</td>\n",
       "      <td>[281003.33875034656, 133431.29574211728, 41595...</td>\n",
       "      <td>[56612.88896226455, 20126.771555529176, 7588.3...</td>\n",
       "      <td>0.001</td>\n",
       "      <td>0</td>\n",
       "    </tr>\n",
       "    <tr>\n",
       "      <th>3</th>\n",
       "      <td>19013.090512</td>\n",
       "      <td>[[-2.7721119320748877, -0.07606506493613077, -...</td>\n",
       "      <td>[291663.25967251393, 125514.13771406046, 42513...</td>\n",
       "      <td>[54221.36969810581, 25958.743169656147, 5761.3...</td>\n",
       "      <td>0.001</td>\n",
       "      <td>1</td>\n",
       "    </tr>\n",
       "    <tr>\n",
       "      <th>4</th>\n",
       "      <td>19011.210756</td>\n",
       "      <td>[[-2.820278964335769, -0.04322609312049462, -0...</td>\n",
       "      <td>[281082.335181402, 133434.3359342664, 41608.35...</td>\n",
       "      <td>[56625.715185760324, 20134.5683387162, 7581.57...</td>\n",
       "      <td>0.010</td>\n",
       "      <td>0</td>\n",
       "    </tr>\n",
       "  </tbody>\n",
       "</table>\n",
       "</div>"
      ],
      "text/plain": [
       "          costs                                              theta  \\\n",
       "0  19014.202643  [[-2.823703492206324, -0.11091406751802795, -0...   \n",
       "1  19014.202643  [[-2.772587619543808, -0.1449638732914278, -0....   \n",
       "2  19013.090512  [[-2.8234750743073804, -0.09003199309627845, -...   \n",
       "3  19013.090512  [[-2.7721119320748877, -0.07606506493613077, -...   \n",
       "4  19011.210756  [[-2.820278964335769, -0.04322609312049462, -0...   \n",
       "\n",
       "                                              losses  \\\n",
       "0  [280995.3272639291, 133430.9171646988, 41595.7...   \n",
       "1  [291638.54179049237, 125511.22064349893, 42505...   \n",
       "2  [281003.33875034656, 133431.29574211728, 41595...   \n",
       "3  [291663.25967251393, 125514.13771406046, 42513...   \n",
       "4  [281082.335181402, 133434.3359342664, 41608.35...   \n",
       "\n",
       "                                               preds  alpha  unit  \n",
       "0  [56612.609538446646, 20125.433002724592, 7589....  0.000     0  \n",
       "1  [54218.44465074336, 25964.232027954182, 5764.3...  0.000     1  \n",
       "2  [56612.88896226455, 20126.771555529176, 7588.3...  0.001     0  \n",
       "3  [54221.36969810581, 25958.743169656147, 5761.3...  0.001     1  \n",
       "4  [56625.715185760324, 20134.5683387162, 7581.57...  0.010     0  "
      ]
     },
     "execution_count": 70,
     "metadata": {},
     "output_type": "execute_result"
    }
   ],
   "source": [
    "trials = []\n",
    "for a in alphas: \n",
    "    trial_df = pd.read_pickle(path+f\"CV_a{a}.csv\")\n",
    "    trial_df[\"alpha\"] = a\n",
    "    trial_df[\"split\"] = np.arange(0,len(trial_df), 1)\n",
    "    trials.append(trial_df)\n",
    "\n",
    "exp_df = pd.concat(trials, ignore_index=True)\n",
    "exp_df.head()"
   ]
  },
  {
   "cell_type": "code",
   "execution_count": 61,
   "id": "2e43e89f-442b-492e-a250-45b00e950fdd",
   "metadata": {},
   "outputs": [
    {
     "data": {
      "text/html": [
       "<div>\n",
       "<style scoped>\n",
       "    .dataframe tbody tr th:only-of-type {\n",
       "        vertical-align: middle;\n",
       "    }\n",
       "\n",
       "    .dataframe tbody tr th {\n",
       "        vertical-align: top;\n",
       "    }\n",
       "\n",
       "    .dataframe thead th {\n",
       "        text-align: right;\n",
       "    }\n",
       "</style>\n",
       "<table border=\"1\" class=\"dataframe\">\n",
       "  <thead>\n",
       "    <tr style=\"text-align: right;\">\n",
       "      <th></th>\n",
       "      <th>costs</th>\n",
       "      <th>theta</th>\n",
       "      <th>losses</th>\n",
       "      <th>preds</th>\n",
       "      <th>alpha</th>\n",
       "      <th>unit</th>\n",
       "      <th>final loss</th>\n",
       "    </tr>\n",
       "  </thead>\n",
       "  <tbody>\n",
       "    <tr>\n",
       "      <th>0</th>\n",
       "      <td>19790.061547</td>\n",
       "      <td>[[-2.823703492206324, -0.11091406751802795, -0...</td>\n",
       "      <td>[280995.3272639291, 133430.9171646988, 41595.7...</td>\n",
       "      <td>[56612.609538446646, 20125.433002724592, 7589....</td>\n",
       "      <td>0.0</td>\n",
       "      <td>0</td>\n",
       "      <td>26567.793264</td>\n",
       "    </tr>\n",
       "    <tr>\n",
       "      <th>1</th>\n",
       "      <td>19790.061547</td>\n",
       "      <td>[[-2.796118139403444, -0.08570071601643611, -0...</td>\n",
       "      <td>[287051.8991317541, 132789.01163885256, 42810....</td>\n",
       "      <td>[53783.42388356427, 24791.78766399046, 7867.63...</td>\n",
       "      <td>0.0</td>\n",
       "      <td>1</td>\n",
       "      <td>26936.074282</td>\n",
       "    </tr>\n",
       "    <tr>\n",
       "      <th>2</th>\n",
       "      <td>19790.061547</td>\n",
       "      <td>[[-2.772587619543808, -0.1449638732914278, -0....</td>\n",
       "      <td>[291638.54179049237, 125511.22064349893, 42505...</td>\n",
       "      <td>[54218.44465074336, 25964.232027954182, 5764.3...</td>\n",
       "      <td>0.0</td>\n",
       "      <td>2</td>\n",
       "      <td>27844.132636</td>\n",
       "    </tr>\n",
       "    <tr>\n",
       "      <th>3</th>\n",
       "      <td>19790.061547</td>\n",
       "      <td>[[-2.7995927039913484, -0.19313931078202645, -...</td>\n",
       "      <td>[286674.7468404896, 127652.08169039477, 42015....</td>\n",
       "      <td>[55211.30861258162, 24664.837748954607, 8197.4...</td>\n",
       "      <td>0.0</td>\n",
       "      <td>3</td>\n",
       "      <td>29297.711365</td>\n",
       "    </tr>\n",
       "    <tr>\n",
       "      <th>4</th>\n",
       "      <td>19790.061547</td>\n",
       "      <td>[[-2.820496035460132, -0.14850344583372369, -0...</td>\n",
       "      <td>[281872.8146599587, 127776.85533553091, 39768....</td>\n",
       "      <td>[56786.571585433165, 28134.830248176688, 8949....</td>\n",
       "      <td>0.0</td>\n",
       "      <td>4</td>\n",
       "      <td>27598.044411</td>\n",
       "    </tr>\n",
       "  </tbody>\n",
       "</table>\n",
       "</div>"
      ],
      "text/plain": [
       "          costs                                              theta  \\\n",
       "0  19790.061547  [[-2.823703492206324, -0.11091406751802795, -0...   \n",
       "1  19790.061547  [[-2.796118139403444, -0.08570071601643611, -0...   \n",
       "2  19790.061547  [[-2.772587619543808, -0.1449638732914278, -0....   \n",
       "3  19790.061547  [[-2.7995927039913484, -0.19313931078202645, -...   \n",
       "4  19790.061547  [[-2.820496035460132, -0.14850344583372369, -0...   \n",
       "\n",
       "                                              losses  \\\n",
       "0  [280995.3272639291, 133430.9171646988, 41595.7...   \n",
       "1  [287051.8991317541, 132789.01163885256, 42810....   \n",
       "2  [291638.54179049237, 125511.22064349893, 42505...   \n",
       "3  [286674.7468404896, 127652.08169039477, 42015....   \n",
       "4  [281872.8146599587, 127776.85533553091, 39768....   \n",
       "\n",
       "                                               preds  alpha  unit  \\\n",
       "0  [56612.609538446646, 20125.433002724592, 7589....    0.0     0   \n",
       "1  [53783.42388356427, 24791.78766399046, 7867.63...    0.0     1   \n",
       "2  [54218.44465074336, 25964.232027954182, 5764.3...    0.0     2   \n",
       "3  [55211.30861258162, 24664.837748954607, 8197.4...    0.0     3   \n",
       "4  [56786.571585433165, 28134.830248176688, 8949....    0.0     4   \n",
       "\n",
       "     final loss  \n",
       "0  26567.793264  \n",
       "1  26936.074282  \n",
       "2  27844.132636  \n",
       "3  29297.711365  \n",
       "4  27598.044411  "
      ]
     },
     "execution_count": 61,
     "metadata": {},
     "output_type": "execute_result"
    }
   ],
   "source": [
    "exp_df[\"losses\"] = exp_df[\"losses\"].apply(lambda x : np.array(x))\n",
    "exp_df[\"final loss\"] = exp_df[\"losses\"].apply(lambda x : x[-1])\n",
    "exp_df[\"theta\"] = exp_df[\"theta\"].apply(lambda x : np.array(x))\n",
    "exp_df[\"preds\"] = exp_df[\"preds\"].apply(lambda x : np.array(x))\n",
    "exp_df.head()"
   ]
  },
  {
   "cell_type": "code",
   "execution_count": 64,
   "id": "3ecd1e92-7e29-4364-adf8-fcc5a6ac43f9",
   "metadata": {},
   "outputs": [
    {
     "data": {
      "text/plain": [
       "array([[-2.82370349e+00, -1.10914068e-01, -6.51127698e-02,\n",
       "        -2.95896982e-02, -5.67525608e-03,  8.08441416e-03,\n",
       "         1.29026548e-02,  1.41891546e-02,  1.23345769e-02,\n",
       "         1.15825801e-02,  6.99986052e-03,  6.73735734e-03,\n",
       "         1.05389439e-02,  8.46707264e-03,  6.37889894e-03,\n",
       "         2.32428511e-03, -8.37418462e-04, -1.23490491e-03,\n",
       "         4.53555633e-03,  1.45426219e-02,  2.37669591e-02,\n",
       "         3.00896292e-02,  2.61672176e-02,  1.15626130e-02,\n",
       "        -1.24315411e-02, -3.82568623e-02, -5.48459060e-02,\n",
       "        -5.06242048e-02, -4.56282135e-03,  8.59402774e-02,\n",
       "         2.30309841e-01],\n",
       "       [-3.82837686e+00,  7.06178000e-04,  3.87427892e-03,\n",
       "         6.45976514e-03,  7.98554034e-03,  8.25346596e-03,\n",
       "         7.81635316e-03,  6.94623739e-03,  5.87816382e-03,\n",
       "         5.22223412e-03,  4.18482069e-03,  3.82242836e-03,\n",
       "         4.88327184e-03,  6.09628413e-03,  5.56500459e-03,\n",
       "         5.24775311e-03,  5.26738067e-03,  5.34226325e-03,\n",
       "         5.93935525e-03,  8.04807513e-03,  1.01861983e-02,\n",
       "         1.17748835e-02,  1.20392341e-02,  1.29537090e-02,\n",
       "         1.57104615e-02,  1.93599810e-02,  2.33759176e-02,\n",
       "         2.84312067e-02,  3.39310217e-02,  3.94737529e-02,\n",
       "         4.49119837e-02],\n",
       "       [-5.21242017e+00, -2.80807653e-02, -2.54350632e-02,\n",
       "        -2.28481853e-02, -2.05484774e-02, -1.86577494e-02,\n",
       "        -1.68490736e-02, -1.51709983e-02, -1.38548203e-02,\n",
       "        -1.20928922e-02, -9.73601796e-03, -7.06641500e-03,\n",
       "        -4.03013577e-03, -5.76940690e-04,  2.83416670e-03,\n",
       "         6.42002353e-03,  9.57983013e-03,  1.26162042e-02,\n",
       "         1.50682617e-02,  1.71771615e-02,  1.88839248e-02,\n",
       "         2.02875966e-02,  2.18858969e-02,  2.33955656e-02,\n",
       "         2.52885308e-02,  2.77880282e-02,  3.04780041e-02,\n",
       "         3.31975828e-02,  3.52288282e-02,  3.65592417e-02,\n",
       "         3.72336709e-02],\n",
       "       [-5.54918660e+00, -7.04280675e-03, -7.20509778e-03,\n",
       "        -7.51934745e-03, -7.80779480e-03, -7.82887828e-03,\n",
       "        -7.63961809e-03, -7.25479500e-03, -6.27640139e-03,\n",
       "        -4.94656676e-03, -3.27630925e-03, -1.23777076e-03,\n",
       "         5.41051817e-04,  2.30844851e-03,  4.00855616e-03,\n",
       "         5.64756616e-03,  7.22506690e-03,  8.91285836e-03,\n",
       "         1.05882090e-02,  1.22584595e-02,  1.40268077e-02,\n",
       "         1.59423093e-02,  1.78166785e-02,  1.98546830e-02,\n",
       "         2.20178798e-02,  2.41298533e-02,  2.63640601e-02,\n",
       "         2.87208605e-02,  3.06353387e-02,  3.20263765e-02,\n",
       "         3.30816242e-02],\n",
       "       [-5.74945943e+00,  1.29359152e-02,  8.69112201e-03,\n",
       "         4.87364700e-03,  1.46536477e-03, -1.62927452e-03,\n",
       "        -4.48072837e-03, -6.72816876e-03, -8.18988796e-03,\n",
       "        -9.30809299e-03, -9.90796493e-03, -1.03882583e-02,\n",
       "        -1.06521543e-02, -1.05053988e-02, -1.03287928e-02,\n",
       "        -9.90548109e-03, -9.07377677e-03, -8.06323087e-03,\n",
       "        -6.23337249e-03, -3.65178412e-03, -3.04552563e-04,\n",
       "         3.84399026e-03,  8.85087335e-03,  1.40364191e-02,\n",
       "         1.89485405e-02,  2.37968891e-02,  2.89641077e-02,\n",
       "         3.35710040e-02,  3.75717765e-02,  4.14785228e-02,\n",
       "         4.51201315e-02]])"
      ]
     },
     "execution_count": 64,
     "metadata": {},
     "output_type": "execute_result"
    }
   ],
   "source": [
    "exp_df[\"theta\"][0]"
   ]
  },
  {
   "cell_type": "code",
   "execution_count": 62,
   "id": "ebe37f0e-2e95-4ee3-805a-49f02227e37d",
   "metadata": {},
   "outputs": [
    {
     "data": {
      "text/plain": [
       "<AxesSubplot:xlabel='alpha', ylabel='final loss'>"
      ]
     },
     "execution_count": 62,
     "metadata": {},
     "output_type": "execute_result"
    },
    {
     "data": {
      "image/png": "[encoded data removed]",
      "text/plain": [
       "<Figure size 432x288 with 1 Axes>"
      ]
     },
     "metadata": {
      "needs_background": "light"
     },
     "output_type": "display_data"
    }
   ],
   "source": [
    "sns.lineplot(x=\"alpha\", y=\"final loss\", data=exp_df, hue=\"unit\")"
   ]
  },
  {
   "cell_type": "code",
   "execution_count": null,
   "id": "f85c327c-7806-4329-a419-61e7fc13e1f2",
   "metadata": {},
   "outputs": [],
   "source": []
  }
 ],
 "metadata": {
  "kernelspec": {
   "display_name": "Python 3 (ipykernel)",
   "language": "python",
   "name": "python3"
  },
  "language_info": {
   "codemirror_mode": {
    "name": "ipython",
    "version": 3
   },
   "file_extension": ".py",
   "mimetype": "text/x-python",
   "name": "python",
   "nbconvert_exporter": "python",
   "pygments_lexer": "ipython3",
   "version": "3.8.12"
  }
 },
 "nbformat": 4,
 "nbformat_minor": 5
}
