{
 "cells": [
  {
   "cell_type": "code",
   "execution_count": 1,
   "id": "55e8fb6e-5934-400e-a356-d76b7586e8ed",
   "metadata": {},
   "outputs": [],
   "source": [
    "import matplotlib.pyplot as plt\n",
    "import numpy as np\n",
    "import pandas as pd\n",
    "import statsmodels.api as sm\n",
    "from sklearn.linear_model import LogisticRegression, PoissonRegressor, LinearRegression\n",
    "\n",
    "import sys\n",
    "sys.path.append('/home/rachel/Documents/lfp2spikes/modularized_code') \n",
    "from models.fit_model import MODEL_FITTING\n",
    "from models.testing import EVALUATION"
   ]
  },
  {
   "cell_type": "code",
   "execution_count": 2,
   "id": "a0c88131-6b42-4f6d-8d8d-ab2c74d96f82",
   "metadata": {},
   "outputs": [],
   "source": [
    "import pandas as pd\n",
    "import numpy as np\n",
    "from numpy.random import shuffle\n",
    "from sklearn.metrics import mean_squared_error\n",
    "import statsmodels.api as sm\n",
    "\n",
    "\n",
    "class EVALUATION(): \n",
    "    \n",
    "    def __init__(self, model_mode): \n",
    "        self.mode = model_mode \n",
    "        \n",
    "        \n",
    "    def neg_log_lik(\n",
    "        self, \n",
    "        theta, \n",
    "        X,\n",
    "        y\n",
    "    ):\n",
    "\n",
    "        # Build the full design matrix\n",
    "        if X.shape[-1] == theta.shape[-1]-1:    \n",
    "            bias = np.ones(X.shape[0])\n",
    "            X_dsgn = np.column_stack([bias, X])\n",
    "        else: \n",
    "            X_dsgn = X\n",
    "                    \n",
    "        # Compute the Poisson log likelihood\n",
    "        rate = np.exp(X_dsgn @ theta)\n",
    "        return -(y @ np.log(rate) - rate.sum())  \n",
    "\n",
    "        \n",
    "    def validate_model(\n",
    "        self, \n",
    "        X,\n",
    "        y,\n",
    "        theta\n",
    "    ):\n",
    "        if self.mode==\"stats\": # statsmodels\n",
    "            return self.neg_log_lik(theta, X, y)       \n",
    "                \n",
    "        elif self.mode==\"sklearn\": # sklearn\n",
    "            return self.neg_log_lik(theta, X, y) \n",
    "        \n",
    "        \n",
    "    def predict_spike_rate(\n",
    "        self, \n",
    "        model, \n",
    "        theta,\n",
    "        X\n",
    "    ):\n",
    "        if self.mode==\"stats\": # statsmodels\n",
    "            X = sm.add_constant(X)\n",
    "            return model.predict(params=theta, exog=X)      \n",
    "                \n",
    "        elif self.mode==\"sklearn\": # sklearn\n",
    "            return model.predict(X)\n",
    "        \n",
    "        \n",
    "    def evaluate_model(\n",
    "        self, \n",
    "        model, \n",
    "        theta, \n",
    "        X,\n",
    "        y\n",
    "    ):\n",
    "        nll = self.validate_model(X, y, theta)\n",
    "        \n",
    "        y_pred = self.predict_spike_rate(model, theta, X)\n",
    "        mse = mean_squared_error(y, y_pred)\n",
    "        \n",
    "        return nll, mse\n",
    "    \n",
    "    \n",
    "    def random_spike_compare(\n",
    "        self, \n",
    "        cv_models, \n",
    "        cv_thetas, \n",
    "        cv_dataframes,\n",
    "        n_rand\n",
    "    ):\n",
    "        evals_train = []\n",
    "        evals_val = []\n",
    "        evals_test = []\n",
    "        \n",
    "        for s in range(len(cv_dataframes)): \n",
    "            print(f\"\\n>>>>>>>>> Start Split {s+1}\")\n",
    "            [X_df, y_df] = cv_dataframes[s]\n",
    "            models = cv_models[s]\n",
    "            thetas = cv_thetas[s]\n",
    "            \n",
    "            evals_train_s = []\n",
    "            evals_val_s = []\n",
    "            evals_test_s = []\n",
    "            \n",
    "            # for all neurons\n",
    "            for n in range(len(X_df)): \n",
    "                print(f\"--- Unit {n} ---\")\n",
    "                evals_train_n = []\n",
    "                evals_val_n = []\n",
    "                evals_test_n = []\n",
    "            \n",
    "                model = models[n]\n",
    "                theta = thetas[n]\n",
    "                \n",
    "                X_train = X_df.train_dt[n]\n",
    "                y_train = y_df.train_dt[n]\n",
    "                \n",
    "                X_val = X_df.val_dt[n]\n",
    "                y_val = y_df.val_dt[n]\n",
    "                \n",
    "                X_test = X_df.test_dt[n]\n",
    "                y_test = y_df.test_dt[n]\n",
    "                \n",
    "                # Perform evaluation for original data\n",
    "                evals_train_n.append(self.evaluate_model(model, theta, X_train, y_train))\n",
    "                evals_val_n.append(self.evaluate_model(model, theta, X_val, y_val))\n",
    "                evals_test_n.append(self.evaluate_model(model, theta, X_test, y_test))\n",
    "                \n",
    "                # Perform evaluation for n_rand random permutations of spikes\n",
    "                for r in range(n_rand): \n",
    "                    # random permutation of spikes\n",
    "                    shuffle(y_train)\n",
    "                    shuffle(y_val)\n",
    "                    shuffle(y_test)\n",
    "                    \n",
    "                    # evaluate\n",
    "                    evals_train_n.append(self.evaluate_model(model, theta, X_train, y_train))\n",
    "                    evals_val_n.append(self.evaluate_model(model, theta, X_val, y_val))\n",
    "                    evals_test_n.append(self.evaluate_model(model, theta, X_test, y_test))\n",
    "                    \n",
    "                evals_train_s.append(evals_train_n)\n",
    "                evals_val_s.append(evals_val_n)\n",
    "                evals_test_s.append(evals_test_n)\n",
    "                \n",
    "            evals_train.append(evals_train_s)\n",
    "            evals_val.append(evals_val_s)\n",
    "            evals_test.append(evals_test_s)\n",
    "            \n",
    "            print(f\"\\n>>>>>>>>> End Split {s+1}\")\n",
    "            \n",
    "        evals_train = np.array(evals_train)\n",
    "        evals_val = np.array(evals_val)\n",
    "        evals_test = np.array(evals_test)                       \n",
    "                \n",
    "        return evals_train, evals_val, evals_test\n",
    "    \n",
    "    \n",
    "    def result_np2pd(\n",
    "        self, \n",
    "        array\n",
    "    ):    \n",
    "        arr_shape = array.shape\n",
    "\n",
    "        pd_ls = []\n",
    "        for s in range(arr_shape[0]): \n",
    "            split_ls = []\n",
    "            for u in range(arr_shape[1]): \n",
    "                u_pd = pd.DataFrame(array[s,u,:])\n",
    "                u_pd.columns = [\"Negative Log-Likelihood\", \"MSE\"]\n",
    "                u_pd[\"trial\"] = np.arange(0,arr_shape[2],1)\n",
    "                u_pd[\"unit\"] = u\n",
    "                u_pd[\"split\"] = s\n",
    "                #print(u_pd.head())\n",
    "\n",
    "                split_ls.append(u_pd)\n",
    "\n",
    "            pd_ls.append(\n",
    "                pd.concat(split_ls)\n",
    "            )\n",
    "        \n",
    "        return pd.concat(pd_ls)\n",
    "            \n",
    "        \n",
    "                \n",
    "                "
   ]
  },
  {
   "cell_type": "code",
   "execution_count": 3,
   "id": "cd0e2666-83dc-41cb-a61c-e2731b7ce7c6",
   "metadata": {},
   "outputs": [],
   "source": [
    "model_mode = \"stats\"\n",
    "fitter = MODEL_FITTING(model_mode)\n",
    "evaluator = EVALUATION(model_mode)"
   ]
  },
  {
   "cell_type": "code",
   "execution_count": 5,
   "id": "f6e697f1-d994-45d4-a4dd-e59ba1351c53",
   "metadata": {},
   "outputs": [],
   "source": [
    "buffer_size = 15\n",
    "splits = [1,2,3,4,5]\n",
    "bin_size = 1\n",
    "c = (10, 1)\n",
    "spike_type = \"SUA\"\n",
    "spike_combo = \"sumExt\"\n",
    "origin = 'zscored'\n",
    "\n",
    "channels = \"channels_5-40\"\n",
    "\n",
    "lfp_path = f'../data_prep/data/{spike_type}/{channels}/pat66_lfps{spike_type}_df_{origin}_c{c}_b{bin_size}'\n",
    "spike_path = f'../data_prep/data/{spike_type}/{channels}/pat66_spikes{spike_type}_df_b{bin_size}_c{c}'\n",
    "\n",
    "cv_df = fitter.load_split_data(\n",
    "    splits, \n",
    "    lfp_path, \n",
    "    spike_path\n",
    ")"
   ]
  },
  {
   "cell_type": "code",
   "execution_count": null,
   "id": "7a2699a2-5cf7-4396-9480-47a0cee24bd3",
   "metadata": {},
   "outputs": [
    {
     "name": "stdout",
     "output_type": "stream",
     "text": [
      "\n",
      ">>>>>>>>> Start Split 1\n",
      "--- Unit 0 ---\n",
      "--- Unit 1 ---\n",
      "--- Unit 2 ---\n",
      "--- Unit 3 ---\n",
      "--- Unit 4 ---\n",
      "--- Unit 5 ---\n",
      "--- Unit 6 ---\n",
      "--- Unit 7 ---\n",
      "--- Unit 8 ---\n",
      "--- Unit 9 ---\n",
      "--- Unit 10 ---\n",
      "--- Unit 11 ---\n",
      "--- Unit 12 ---\n",
      "--- Unit 13 ---\n",
      "--- Unit 14 ---\n",
      "--- Unit 15 ---\n",
      ">>>>>>>>> End Split 1\n",
      "\n",
      ">>>>>>>>> Start Split 2\n",
      "--- Unit 0 ---\n",
      "--- Unit 1 ---\n",
      "--- Unit 2 ---\n",
      "--- Unit 3 ---\n",
      "--- Unit 4 ---\n",
      "--- Unit 5 ---\n",
      "--- Unit 6 ---\n",
      "--- Unit 7 ---\n",
      "--- Unit 8 ---\n",
      "--- Unit 9 ---\n",
      "--- Unit 10 ---\n",
      "--- Unit 11 ---\n",
      "--- Unit 12 ---\n",
      "--- Unit 13 ---\n",
      "--- Unit 14 ---\n",
      "--- Unit 15 ---\n",
      ">>>>>>>>> End Split 2\n",
      "\n",
      ">>>>>>>>> Start Split 3\n",
      "--- Unit 0 ---\n",
      "--- Unit 1 ---\n",
      "--- Unit 2 ---\n"
     ]
    }
   ],
   "source": [
    "best_params = {\"alpha\": 0.01, \"L1_wt\" : 1.0}\n",
    "models, thetas = fitter.cv_fit_per_neuron(cv_df, **best_params)"
   ]
  },
  {
   "cell_type": "code",
   "execution_count": 38,
   "id": "9f02c6cf-5c68-419e-ad25-d9bfbd4fa34f",
   "metadata": {},
   "outputs": [],
   "source": [
    "X = cv_df[0][0].iloc[0][\"val_dt\"]\n",
    "y = cv_df[0][1].iloc[0][\"val_dt\"]"
   ]
  },
  {
   "cell_type": "code",
   "execution_count": 36,
   "id": "50e19a16-8d4f-4cfc-a2be-3d452e878c03",
   "metadata": {},
   "outputs": [],
   "source": [
    "import statsmodels.api as sm\n",
    "\n",
    "X = sm.add_constant(X)\n",
    "y_pred = models[0][0].predict(params=thetas[0][0], exog=X)"
   ]
  },
  {
   "cell_type": "code",
   "execution_count": 40,
   "id": "4b6369ec-f472-4d46-9d8c-73f3c569cda9",
   "metadata": {},
   "outputs": [
    {
     "data": {
      "image/png": "[encoded data removed]",
      "text/plain": [
       "<Figure size 432x288 with 1 Axes>"
      ]
     },
     "metadata": {
      "needs_background": "light"
     },
     "output_type": "display_data"
    }
   ],
   "source": [
    "plt.plot(y)\n",
    "plt.plot(y_pred)\n",
    "plt.show()"
   ]
  },
  {
   "cell_type": "code",
   "execution_count": 9,
   "id": "13856c66-5a68-46ef-a927-44342dae0c09",
   "metadata": {
    "tags": []
   },
   "outputs": [
    {
     "name": "stdout",
     "output_type": "stream",
     "text": [
      "\n",
      ">>>>>>>>> Start Split 1\n",
      "--- Unit 0 ---\n",
      "--- Unit 1 ---\n",
      "--- Unit 2 ---\n",
      "--- Unit 3 ---\n",
      "--- Unit 4 ---\n",
      "\n",
      ">>>>>>>>> End Split 1\n",
      "\n",
      ">>>>>>>>> Start Split 2\n",
      "--- Unit 0 ---\n",
      "--- Unit 1 ---\n",
      "--- Unit 2 ---\n",
      "--- Unit 3 ---\n",
      "--- Unit 4 ---\n",
      "\n",
      ">>>>>>>>> End Split 2\n",
      "\n",
      ">>>>>>>>> Start Split 3\n",
      "--- Unit 0 ---\n",
      "--- Unit 1 ---\n",
      "--- Unit 2 ---\n",
      "--- Unit 3 ---\n",
      "--- Unit 4 ---\n",
      "\n",
      ">>>>>>>>> End Split 3\n",
      "\n",
      ">>>>>>>>> Start Split 4\n",
      "--- Unit 0 ---\n",
      "--- Unit 1 ---\n",
      "--- Unit 2 ---\n",
      "--- Unit 3 ---\n",
      "--- Unit 4 ---\n",
      "\n",
      ">>>>>>>>> End Split 4\n",
      "\n",
      ">>>>>>>>> Start Split 5\n",
      "--- Unit 0 ---\n",
      "--- Unit 1 ---\n",
      "--- Unit 2 ---\n",
      "--- Unit 3 ---\n",
      "--- Unit 4 ---\n",
      "\n",
      ">>>>>>>>> End Split 5\n"
     ]
    }
   ],
   "source": [
    "import statsmodels.api as sm\n",
    "num_rand_permuts = 10\n",
    "evals_train, evals_val, evals_test = evaluator.random_spike_compare(\n",
    "    models, \n",
    "    thetas, \n",
    "    cv_df, \n",
    "    num_rand_permuts\n",
    ")"
   ]
  },
  {
   "cell_type": "code",
   "execution_count": 10,
   "id": "839aa377-cbc9-4dfe-a711-9f881aaaccdd",
   "metadata": {},
   "outputs": [],
   "source": [
    "evals_train_df = evaluator.result_np2pd(evals_train)\n",
    "evals_val_df = evaluator.result_np2pd(evals_val)\n",
    "evals_test_df = evaluator.result_np2pd(evals_test)"
   ]
  },
  {
   "cell_type": "code",
   "execution_count": 11,
   "id": "25fb68c7-6aef-4f04-b0f5-83212ab6ea91",
   "metadata": {},
   "outputs": [
    {
     "data": {
      "text/html": [
       "<div>\n",
       "<style scoped>\n",
       "    .dataframe tbody tr th:only-of-type {\n",
       "        vertical-align: middle;\n",
       "    }\n",
       "\n",
       "    .dataframe tbody tr th {\n",
       "        vertical-align: top;\n",
       "    }\n",
       "\n",
       "    .dataframe thead th {\n",
       "        text-align: right;\n",
       "    }\n",
       "</style>\n",
       "<table border=\"1\" class=\"dataframe\">\n",
       "  <thead>\n",
       "    <tr style=\"text-align: right;\">\n",
       "      <th></th>\n",
       "      <th>Negative Log-Likelihood</th>\n",
       "      <th>MSE</th>\n",
       "      <th>trial</th>\n",
       "      <th>unit</th>\n",
       "      <th>split</th>\n",
       "    </tr>\n",
       "  </thead>\n",
       "  <tbody>\n",
       "    <tr>\n",
       "      <th>0</th>\n",
       "      <td>57156.828923</td>\n",
       "      <td>0.069065</td>\n",
       "      <td>0</td>\n",
       "      <td>0</td>\n",
       "      <td>0</td>\n",
       "    </tr>\n",
       "    <tr>\n",
       "      <th>1</th>\n",
       "      <td>57710.922206</td>\n",
       "      <td>0.069506</td>\n",
       "      <td>1</td>\n",
       "      <td>0</td>\n",
       "      <td>0</td>\n",
       "    </tr>\n",
       "    <tr>\n",
       "      <th>2</th>\n",
       "      <td>57693.585500</td>\n",
       "      <td>0.069498</td>\n",
       "      <td>2</td>\n",
       "      <td>0</td>\n",
       "      <td>0</td>\n",
       "    </tr>\n",
       "    <tr>\n",
       "      <th>3</th>\n",
       "      <td>57714.826924</td>\n",
       "      <td>0.069510</td>\n",
       "      <td>3</td>\n",
       "      <td>0</td>\n",
       "      <td>0</td>\n",
       "    </tr>\n",
       "    <tr>\n",
       "      <th>4</th>\n",
       "      <td>57723.121688</td>\n",
       "      <td>0.069519</td>\n",
       "      <td>4</td>\n",
       "      <td>0</td>\n",
       "      <td>0</td>\n",
       "    </tr>\n",
       "  </tbody>\n",
       "</table>\n",
       "</div>"
      ],
      "text/plain": [
       "   Negative Log-Likelihood       MSE  trial  unit  split\n",
       "0             57156.828923  0.069065      0     0      0\n",
       "1             57710.922206  0.069506      1     0      0\n",
       "2             57693.585500  0.069498      2     0      0\n",
       "3             57714.826924  0.069510      3     0      0\n",
       "4             57723.121688  0.069519      4     0      0"
      ]
     },
     "execution_count": 11,
     "metadata": {},
     "output_type": "execute_result"
    }
   ],
   "source": [
    "evals_test_df.head()"
   ]
  },
  {
   "cell_type": "code",
   "execution_count": 24,
   "id": "bd5a6953-ca5b-459c-8594-92f8721adb82",
   "metadata": {},
   "outputs": [
    {
     "data": {
      "text/plain": [
       "<Figure size 774x270 with 0 Axes>"
      ]
     },
     "metadata": {},
     "output_type": "display_data"
    },
    {
     "data": {
      "image/png": "[encoded data removed]",
      "text/plain": [
       "<Figure size 417.6x626.4 with 5 Axes>"
      ]
     },
     "metadata": {},
     "output_type": "display_data"
    }
   ],
   "source": [
    "tic_font_size = \"x-small\"\n",
    "label_font_size = \"small\"\n",
    "import seaborn as sns\n",
    "import matplotlib\n",
    "rc = {\n",
    "    \"figure.figsize\":(10.75, 3.75),\n",
    "    \"font.family\":\"sans serif\", \n",
    "    \"text.usetex\":False,\n",
    "    \"xtick.labelsize\":tic_font_size,\n",
    "    \"ytick.labelsize\":tic_font_size,\n",
    "    \"axes.axisbelow\":True,\n",
    "    \"lines.linewidth\":0.8, \n",
    "    \"legend.fancybox\":True, \n",
    "    # \"text.usetex\" : True, \n",
    "    # \"pdf.fonttype\" : 42\n",
    "}\n",
    "\n",
    "matplotlib.rcParams[\"lines.linewidth\"] = 0.8\n",
    "matplotlib.rcParams[\"legend.fancybox\"] = True\n",
    "sns.set(rc=rc)\n",
    "sns.set_style('white')\n",
    "\n",
    "plt.tight_layout()\n",
    "\n",
    "\n",
    "fig = sns.catplot(\n",
    "    y=\"Negative Log-Likelihood\", \n",
    "    x=\"trial\", \n",
    "    col=\"unit\", \n",
    "    kind=\"box\", \n",
    "    data=evals_test_df, \n",
    "    height=2.9, \n",
    "    aspect=1, \n",
    "    col_wrap=2\n",
    ")\n",
    "\n",
    "fig.savefig('../evalutation/plots/plot_eval.png')\n",
    "fig.savefig('../evalutation/plots/plot_eval.pdf')"
   ]
  },
  {
   "cell_type": "code",
   "execution_count": null,
   "id": "ef601136-df8d-4e89-9eb4-72144f644fb2",
   "metadata": {},
   "outputs": [],
   "source": [
    "sns.lineplot(y=\"Negative Log-Likelihood\", x=\"trial\", , , data=eval_test_df)\n",
    "plt.show()"
   ]
  },
  {
   "cell_type": "code",
   "execution_count": 41,
   "id": "ee89cfdf-8027-4ba5-bc90-69659a9ee1b6",
   "metadata": {},
   "outputs": [
    {
     "data": {
      "text/plain": [
       "3"
      ]
     },
     "execution_count": 41,
     "metadata": {},
     "output_type": "execute_result"
    }
   ],
   "source": []
  },
  {
   "cell_type": "code",
   "execution_count": 7,
   "id": "6a29c9e5-8021-4814-8989-73b776327444",
   "metadata": {},
   "outputs": [
    {
     "data": {
      "text/plain": [
       "array([[[2.12887773e+04, 2.37620089e-02],\n",
       "        [2.20593889e+04, 2.46023764e-02],\n",
       "        [2.20601578e+04, 2.46150149e-02],\n",
       "        [2.20595360e+04, 2.46189074e-02],\n",
       "        [2.20478459e+04, 2.46150089e-02],\n",
       "        [2.20585548e+04, 2.46131718e-02],\n",
       "        [2.20597675e+04, 2.46142575e-02],\n",
       "        [2.20615686e+04, 2.46161615e-02],\n",
       "        [2.20697352e+04, 2.46280123e-02],\n",
       "        [2.20565556e+04, 2.46228466e-02],\n",
       "        [2.20522700e+04, 2.46084796e-02]],\n",
       "\n",
       "       [[1.88463232e+04, 1.99522130e-02],\n",
       "        [1.92753192e+04, 2.02494636e-02],\n",
       "        [1.92822644e+04, 2.02603454e-02],\n",
       "        [1.92895677e+04, 2.02600943e-02],\n",
       "        [1.92882959e+04, 2.02591251e-02],\n",
       "        [1.92879854e+04, 2.02603523e-02],\n",
       "        [1.92815821e+04, 2.02567289e-02],\n",
       "        [1.92907184e+04, 2.02599269e-02],\n",
       "        [1.92780269e+04, 2.02570985e-02],\n",
       "        [1.92803192e+04, 2.02573209e-02],\n",
       "        [1.92819712e+04, 2.02594133e-02]],\n",
       "\n",
       "       [[1.97368400e+04, 1.99634917e-02],\n",
       "        [2.03869338e+04, 2.07122879e-02],\n",
       "        [2.03896684e+04, 2.07077331e-02],\n",
       "        [2.03886025e+04, 2.07013258e-02],\n",
       "        [2.03931918e+04, 2.07022259e-02],\n",
       "        [2.03875231e+04, 2.07067666e-02],\n",
       "        [2.03762939e+04, 2.07092076e-02],\n",
       "        [2.03968337e+04, 2.07115950e-02],\n",
       "        [2.03894753e+04, 2.06984849e-02],\n",
       "        [2.03816021e+04, 2.07120681e-02],\n",
       "        [2.03782726e+04, 2.06991119e-02]],\n",
       "\n",
       "       [[1.91616341e+04, 2.03852511e-02],\n",
       "        [1.94940018e+04, 2.07934790e-02],\n",
       "        [1.94990824e+04, 2.07790532e-02],\n",
       "        [1.94983907e+04, 2.07907599e-02],\n",
       "        [1.94860869e+04, 2.07736275e-02],\n",
       "        [1.94830615e+04, 2.07656586e-02],\n",
       "        [1.95038803e+04, 2.07856254e-02],\n",
       "        [1.95031998e+04, 2.07868365e-02],\n",
       "        [1.94947345e+04, 2.07919500e-02],\n",
       "        [1.94916723e+04, 2.07948613e-02],\n",
       "        [1.94857939e+04, 2.07921747e-02]],\n",
       "\n",
       "       [[1.99420379e+04, 2.20526921e-02],\n",
       "        [2.04254577e+04, 2.26094170e-02],\n",
       "        [2.04318108e+04, 2.26089316e-02],\n",
       "        [2.04501600e+04, 2.26245924e-02],\n",
       "        [2.04266863e+04, 2.26069636e-02],\n",
       "        [2.04421482e+04, 2.26114162e-02],\n",
       "        [2.04323833e+04, 2.26210782e-02],\n",
       "        [2.04288851e+04, 2.26188382e-02],\n",
       "        [2.04150021e+04, 2.26033343e-02],\n",
       "        [2.04259990e+04, 2.25929018e-02],\n",
       "        [2.04234932e+04, 2.26102548e-02]]])"
      ]
     },
     "execution_count": 7,
     "metadata": {},
     "output_type": "execute_result"
    }
   ],
   "source": [
    "a = np.array(evals_test).mean(axis=1)\n",
    "a"
   ]
  },
  {
   "cell_type": "code",
   "execution_count": 33,
   "id": "95ea84fb-d60e-461a-a74f-ad28027877aa",
   "metadata": {},
   "outputs": [
    {
     "data": {
      "text/plain": [
       "array([[21288.77730176, 22065.87648105, 22058.46336621, 22076.77645741,\n",
       "        22056.36032898, 22078.72308768, 22049.02062166, 22073.39821849,\n",
       "        22045.98760448, 22046.82043844, 22066.13826433],\n",
       "       [18846.32318745, 19280.06229783, 19285.11184816, 19276.37168409,\n",
       "        19279.15716312, 19276.89363021, 19282.4876403 , 19289.52137063,\n",
       "        19275.73723511, 19292.48994915, 19278.16424763],\n",
       "       [19736.83996362, 20364.93697512, 20376.67095828, 20374.44231336,\n",
       "        20369.27513536, 20384.05404212, 20373.77304915, 20366.28418138,\n",
       "        20383.55843562, 20382.06879516, 20387.05933697],\n",
       "       [19161.63408712, 19494.83117289, 19500.51942344, 19491.68392865,\n",
       "        19509.55530293, 19494.89252892, 19494.45756798, 19506.85244668,\n",
       "        19500.24759358, 19481.8085313 , 19506.02026206],\n",
       "       [19942.03792361, 20430.62301684, 20418.70505275, 20434.49930895,\n",
       "        20436.52289673, 20422.40424191, 20415.38908594, 20440.60878224,\n",
       "        20422.04303049, 20432.13672994, 20426.2288361 ]])"
      ]
     },
     "execution_count": 33,
     "metadata": {},
     "output_type": "execute_result"
    }
   ],
   "source": [
    "a[:, :, 0]"
   ]
  },
  {
   "cell_type": "code",
   "execution_count": 49,
   "id": "86b2d83e-ee9a-4fb0-b2bc-6111583dc6a7",
   "metadata": {},
   "outputs": [
    {
     "data": {
      "image/png": "[encoded data removed]",
      "text/plain": [
       "<Figure size 432x288 with 1 Axes>"
      ]
     },
     "metadata": {
      "needs_background": "light"
     },
     "output_type": "display_data"
    }
   ],
   "source": [
    "plt.boxplot(a[1:, :, 0])\n",
    "plt.show()"
   ]
  },
  {
   "cell_type": "code",
   "execution_count": null,
   "id": "85567cfa-5909-409a-8324-71e7fc5b716d",
   "metadata": {},
   "outputs": [],
   "source": []
  }
 ],
 "metadata": {
  "kernelspec": {
   "display_name": "Python 3 (ipykernel)",
   "language": "python",
   "name": "python3"
  },
  "language_info": {
   "codemirror_mode": {
    "name": "ipython",
    "version": 3
   },
   "file_extension": ".py",
   "mimetype": "text/x-python",
   "name": "python",
   "nbconvert_exporter": "python",
   "pygments_lexer": "ipython3",
   "version": "3.8.12"
  }
 },
 "nbformat": 4,
 "nbformat_minor": 5
}
