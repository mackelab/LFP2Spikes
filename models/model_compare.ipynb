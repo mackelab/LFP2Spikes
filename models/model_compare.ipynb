{
 "cells": [
  {
   "cell_type": "markdown",
   "id": "940a4abf-c459-42b6-952e-829ecda76858",
   "metadata": {},
   "source": [
    "## 0. Preparation"
   ]
  },
  {
   "cell_type": "markdown",
   "id": "b1ffce86-f85e-450e-837b-22146ba893b9",
   "metadata": {},
   "source": [
    "### Imports"
   ]
  },
  {
   "cell_type": "code",
   "execution_count": 1,
   "id": "e3acd53d-0bb8-4bce-9932-4fd7f6422e73",
   "metadata": {},
   "outputs": [],
   "source": [
    "import matplotlib.pyplot as plt\n",
    "import numpy as np\n",
    "import pandas as pd\n",
    "import scipy\n",
    "import statsmodels.api as sm\n",
    "from sklearn.metrics import mean_squared_error as MSE\n",
    "\n",
    "import sys\n",
    "sys.path.append('/home/rachel/Documents/lfp2spikes/modularized_code') \n",
    "from models.fit_model import MODEL_FITTING\n",
    "from models.testing import EVALUATION"
   ]
  },
  {
   "cell_type": "markdown",
   "id": "aef64d00-a137-4f9d-be31-ec87a7412f67",
   "metadata": {},
   "source": [
    "### Data"
   ]
  },
  {
   "cell_type": "code",
   "execution_count": 2,
   "id": "a42df600-529a-4dad-8222-38c83a76b4f8",
   "metadata": {},
   "outputs": [
    {
     "name": "stdout",
     "output_type": "stream",
     "text": [
      "Ground truth theta: \n",
      "[0.37454012 0.95071431 0.73199394 0.59865848]\n"
     ]
    }
   ],
   "source": [
    "np.random.seed(42)\n",
    "theta = np.random.random((4,))\n",
    "print(f\"Ground truth theta: \\n{theta}\")"
   ]
  },
  {
   "cell_type": "code",
   "execution_count": 3,
   "id": "504ad3d1-db60-4c01-9c5a-ff1b1416dd3a",
   "metadata": {},
   "outputs": [],
   "source": [
    "X = np.random.random((1000,4))\n",
    "y = np.exp(X@theta) + np.random.random((1000,))*1e-7"
   ]
  },
  {
   "cell_type": "code",
   "execution_count": 4,
   "id": "5ad73fec-b35c-4b35-a660-8abeef00c188",
   "metadata": {},
   "outputs": [],
   "source": [
    "def check_model_pipeline(fitter, **fit_params): \n",
    "    # MODEL FITTING\n",
    "    model, params, _ = fitter.fit_model(X, y, **fit_params)\n",
    "    nll = fitter.neg_log_lik(params, X, y)\n",
    "    y_hat = fitter.predict_spike_rate(model, X, params)\n",
    "    \n",
    "    # EVALUATION\n",
    "    print(f\"\\nModel with regularization alpha {fit_params['alpha']}: \")\n",
    "    print(f\"  - Negative Log Likelihood: {nll}\")\n",
    "    print(f\"  - theta: {params[1:]}\")\n",
    "    print(f\"  - intercept: {params[0]}\")\n",
    "    print(f\"  - theta MSE: {MSE(theta, params[1:])}\")\n",
    "    print(f\"  - predction MSE: {MSE(y, y_hat)}\")"
   ]
  },
  {
   "cell_type": "markdown",
   "id": "9bab5d68-ec6e-4ce6-a4b5-936e466fee91",
   "metadata": {},
   "source": [
    "## 1. Sklearn"
   ]
  },
  {
   "cell_type": "code",
   "execution_count": 5,
   "id": "eb896daf-0993-4604-bd18-06930e535752",
   "metadata": {},
   "outputs": [
    {
     "name": "stdout",
     "output_type": "stream",
     "text": [
      ">> SKLEARN <<\n",
      "\n",
      "Model with regularization alpha 0.0: \n",
      "  - Negative Log Likelihood: 1.6019886259382192\n",
      "  - theta: [0.37453926 0.95071613 0.73198913 0.59866142]\n",
      "  - intercept: 5.432684976499334e-07\n",
      "  - theta MSE: 8.972578303461632e-12\n",
      "  - predction MSE: 5.2574857847723706e-11\n",
      "\n",
      "Model with regularization alpha 0.3: \n",
      "  - Negative Log Likelihood: 1.674230474666313\n",
      "  - theta: [0.19562545 0.49666452 0.39828789 0.3121517 ]\n",
      "  - intercept: 0.6803977983537364\n",
      "  - theta MSE: 0.10790438498585722\n",
      "  - predction MSE: 0.6761286331266279\n",
      "\n",
      "Model with regularization alpha 0.9: \n",
      "  - Negative Log Likelihood: 1.7743079356529874\n",
      "  - theta: [0.09964016 0.25500097 0.20849153 0.15986081]\n",
      "  - intercept: 1.0343100505068084\n",
      "  - theta MSE: 0.2565463043007203\n",
      "  - predction MSE: 1.5477557708572312\n"
     ]
    }
   ],
   "source": [
    "fitter_sklearn = MODEL_FITTING(\"sklearn\")\n",
    "print(\">> SKLEARN <<\")\n",
    "for a in [0.0, 0.3, 0.9]: \n",
    "    params = {\"alpha\" : a}\n",
    "    theta_hat = check_model_pipeline(fitter_sklearn, **params)"
   ]
  },
  {
   "cell_type": "markdown",
   "id": "901ac360-3eb8-482f-b0ef-4fad68d693f3",
   "metadata": {},
   "source": [
    "### 2. Statsmodels"
   ]
  },
  {
   "cell_type": "code",
   "execution_count": 6,
   "id": "1b5a96df-21a3-4986-b731-1c8714b7f06a",
   "metadata": {},
   "outputs": [
    {
     "name": "stdout",
     "output_type": "stream",
     "text": [
      ">> STATSMODELS (L2 Reg) <<\n",
      "\n",
      "Model with regularization alpha 0.0: \n",
      "  - Negative Log Likelihood: 1.6019886259382188\n",
      "  - theta: [0.37453926 0.95071613 0.73198913 0.59866142]\n",
      "  - intercept: 5.432684977739136e-07\n",
      "  - theta MSE: 8.972578303565896e-12\n",
      "  - predction MSE: 5.257485784879797e-11\n",
      "\n",
      "Model with regularization alpha 0.3: \n",
      "  - Negative Log Likelihood: 1.6389523665108008\n",
      "  - theta: [0.30063792 0.60721738 0.49984864 0.42085291]\n",
      "  - intercept: 0.4223543603713865\n",
      "  - theta MSE: 0.05223948318476876\n",
      "  - predction MSE: 0.3890894025848563\n",
      "\n",
      "Model with regularization alpha 0.9: \n",
      "  - Negative Log Likelihood: 1.7009122431875203\n",
      "  - theta: [0.29500259 0.4538631  0.39700484 0.35811657]\n",
      "  - intercept: 0.5078601861802435\n",
      "  - theta MSE: 0.10581636082464548\n",
      "  - predction MSE: 1.0322417602425813\n"
     ]
    }
   ],
   "source": [
    "fitter_stats = MODEL_FITTING(\"stats\")\n",
    "print(\">> STATSMODELS (L2 Reg) <<\")\n",
    "for a in [0.0, 0.3, 0.9]: \n",
    "    params = {\"alpha\" : a, \"L1_wt\" : 0.0}\n",
    "    theta_hat = check_model_pipeline(fitter_stats, **params)"
   ]
  },
  {
   "cell_type": "code",
   "execution_count": 7,
   "id": "47f22444-b4c4-4c93-a506-c9cb8e078a93",
   "metadata": {},
   "outputs": [
    {
     "name": "stdout",
     "output_type": "stream",
     "text": [
      ">> STATSMODELS (L1 Reg) <<\n",
      "\n",
      "Model with regularization alpha 0.0: \n",
      "  - Negative Log Likelihood: 1.6019891994466962\n",
      "  - theta: [0.37447307 0.95051983 0.73152031 0.59705982]\n",
      "  - intercept: 0.0015231045515916848\n",
      "  - theta MSE: 7.055907789944597e-07\n",
      "  - predction MSE: 4.42712223406949e-06\n",
      "\n",
      "Model with regularization alpha 0.3: \n",
      "  - Negative Log Likelihood: 1.8209762396277083\n",
      "  - theta: [0.         0.52706477 0.         0.        ]\n",
      "  - intercept: 1.0481984902410366\n",
      "  - theta MSE: 0.3034915859174859\n",
      "  - predction MSE: 1.988469129868459\n",
      "\n",
      "Model with regularization alpha 0.9: \n",
      "  - Negative Log Likelihood: 2.0461514705401376\n",
      "  - theta: [0. 0. 0. 0.]\n",
      "  - intercept: 1.147730553291428\n",
      "  - theta MSE: 0.4845862761470941\n",
      "  - predction MSE: 3.6325564747662193\n"
     ]
    },
    {
     "name": "stderr",
     "output_type": "stream",
     "text": [
      "/home/rachel/Documents/virtualenvs/lfp2spikes/lib/python3.8/site-packages/statsmodels/genmod/generalized_linear_model.py:1346: UserWarning: Elastic net fitting did not converge\n",
      "  warnings.warn(\"Elastic net fitting did not converge\")\n"
     ]
    }
   ],
   "source": [
    "fitter_stats = MODEL_FITTING(\"stats\")\n",
    "print(\">> STATSMODELS (L1 Reg) <<\")\n",
    "for a in [0.0, 0.3, 0.9]: \n",
    "    params = {\"alpha\" : a, \"L1_wt\" : 1.0}\n",
    "    theta_hat = check_model_pipeline(fitter_stats, **params)"
   ]
  },
  {
   "cell_type": "code",
   "execution_count": null,
   "id": "7f4b0d06-b1e3-43f5-9e9e-9ec894194017",
   "metadata": {},
   "outputs": [],
   "source": []
  }
 ],
 "metadata": {
  "kernelspec": {
   "display_name": "Python 3 (ipykernel)",
   "language": "python",
   "name": "python3"
  },
  "language_info": {
   "codemirror_mode": {
    "name": "ipython",
    "version": 3
   },
   "file_extension": ".py",
   "mimetype": "text/x-python",
   "name": "python",
   "nbconvert_exporter": "python",
   "pygments_lexer": "ipython3",
   "version": "3.8.12"
  }
 },
 "nbformat": 4,
 "nbformat_minor": 5
}
